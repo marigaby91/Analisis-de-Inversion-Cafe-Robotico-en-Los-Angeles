{
 "cells": [
  {
   "cell_type": "markdown",
   "metadata": {
    "toc": true
   },
   "source": [
    "<h1>Table of Contents<span class=\"tocSkip\"></span></h1>\n",
    "<div class=\"toc\"><ul class=\"toc-item\"><li><span><a href=\"#Introducion\" data-toc-modified-id=\"Introducion-1\"><span class=\"toc-item-num\">1&nbsp;&nbsp;</span>Introducion</a></span></li><li><span><a href=\"#Analis-de-datos\" data-toc-modified-id=\"Analis-de-datos-2\"><span class=\"toc-item-num\">2&nbsp;&nbsp;</span>Analis de datos</a></span><ul class=\"toc-item\"><li><span><a href=\"#Carga-de-datasets-e-importacion-de-librerias\" data-toc-modified-id=\"Carga-de-datasets-e-importacion-de-librerias-2.1\"><span class=\"toc-item-num\">2.1&nbsp;&nbsp;</span>Carga de datasets e importacion de librerias</a></span></li><li><span><a href=\"#Estudio-de-datos\" data-toc-modified-id=\"Estudio-de-datos-2.2\"><span class=\"toc-item-num\">2.2&nbsp;&nbsp;</span>Estudio de datos</a></span></li></ul></li><li><span><a href=\"#Análisis-de-datos\" data-toc-modified-id=\"Análisis-de-datos-3\"><span class=\"toc-item-num\">3&nbsp;&nbsp;</span>Análisis de datos</a></span><ul class=\"toc-item\"><li><span><a href=\"#Proporciones-de-los-distintos-tipos-de-establecimientos\" data-toc-modified-id=\"Proporciones-de-los-distintos-tipos-de-establecimientos-3.1\"><span class=\"toc-item-num\">3.1&nbsp;&nbsp;</span>Proporciones de los distintos tipos de establecimientos</a></span></li><li><span><a href=\"#Proporciones-de-los-establecimientos-que-pertenecen-a-una-cadena-y-de-los-que-no\" data-toc-modified-id=\"Proporciones-de-los-establecimientos-que-pertenecen-a-una-cadena-y-de-los-que-no-3.2\"><span class=\"toc-item-num\">3.2&nbsp;&nbsp;</span>Proporciones de los establecimientos que pertenecen a una cadena y de los que no</a></span></li><li><span><a href=\"#¿Qué-tipo-de-establecimiento-es-habitualmente-una-cadena?\" data-toc-modified-id=\"¿Qué-tipo-de-establecimiento-es-habitualmente-una-cadena?-3.3\"><span class=\"toc-item-num\">3.3&nbsp;&nbsp;</span>¿Qué tipo de establecimiento es habitualmente una cadena?</a></span></li><li><span><a href=\"#¿Qué-caracteriza-a-las-cadenas:-muchos-establecimientos-con-un-pequeño-número-de-asientos-o-unos-pocos-establecimientos-con-un-montón-de-asientos?\" data-toc-modified-id=\"¿Qué-caracteriza-a-las-cadenas:-muchos-establecimientos-con-un-pequeño-número-de-asientos-o-unos-pocos-establecimientos-con-un-montón-de-asientos?-3.4\"><span class=\"toc-item-num\">3.4&nbsp;&nbsp;</span>¿Qué caracteriza a las cadenas: muchos establecimientos con un pequeño número de asientos o unos pocos establecimientos con un montón de asientos?</a></span></li><li><span><a href=\"#Determina-el-promedio-de-número-de-asientos-para-cada-tipo-de-restaurante.-De-promedio,-¿qué-tipo-de-restaurante-tiene-el-mayor-número-de-asientos?\" data-toc-modified-id=\"Determina-el-promedio-de-número-de-asientos-para-cada-tipo-de-restaurante.-De-promedio,-¿qué-tipo-de-restaurante-tiene-el-mayor-número-de-asientos?-3.5\"><span class=\"toc-item-num\">3.5&nbsp;&nbsp;</span>Determina el promedio de número de asientos para cada tipo de restaurante. De promedio, ¿qué tipo de restaurante tiene el mayor número de asientos?</a></span></li><li><span><a href=\"#Datos-de-los-nombres-de-las-calles-de-la-columna-address-en-una-columna-separada.\" data-toc-modified-id=\"Datos-de-los-nombres-de-las-calles-de-la-columna-address-en-una-columna-separada.-3.6\"><span class=\"toc-item-num\">3.6&nbsp;&nbsp;</span>Datos de los nombres de las calles de la columna address en una columna separada.</a></span></li><li><span><a href=\"#Diez-mejores-calles-por-número-de-restaurantes.\" data-toc-modified-id=\"Diez-mejores-calles-por-número-de-restaurantes.-3.7\"><span class=\"toc-item-num\">3.7&nbsp;&nbsp;</span>Diez mejores calles por número de restaurantes.</a></span></li><li><span><a href=\"#Número-de-calles-que-solo-tienen-un-restaurante.\" data-toc-modified-id=\"Número-de-calles-que-solo-tienen-un-restaurante.-3.8\"><span class=\"toc-item-num\">3.8&nbsp;&nbsp;</span>Número de calles que solo tienen un restaurante.</a></span></li><li><span><a href=\"#Para-las-calles-con-muchos-restaurantes,-analiza-la-distribución-del-número-de-asientos\" data-toc-modified-id=\"Para-las-calles-con-muchos-restaurantes,-analiza-la-distribución-del-número-de-asientos-3.9\"><span class=\"toc-item-num\">3.9&nbsp;&nbsp;</span>Para las calles con muchos restaurantes, analiza la distribución del número de asientos</a></span></li></ul></li><li><span><a href=\"#Prentacion\" data-toc-modified-id=\"Prentacion-4\"><span class=\"toc-item-num\">4&nbsp;&nbsp;</span>Prentacion</a></span></li></ul></div>"
   ]
  },
  {
   "cell_type": "markdown",
   "metadata": {},
   "source": [
    "# Introducion"
   ]
  },
  {
   "cell_type": "markdown",
   "metadata": {},
   "source": [
    "El objectivo del proyecto es presentar una propuesta para posibles inversinita de un cafe robotico en LA."
   ]
  },
  {
   "cell_type": "markdown",
   "metadata": {},
   "source": [
    "# Analis de datos"
   ]
  },
  {
   "cell_type": "markdown",
   "metadata": {},
   "source": [
    "## Carga de datasets e importacion de librerias"
   ]
  },
  {
   "cell_type": "code",
   "execution_count": 27,
   "metadata": {},
   "outputs": [],
   "source": [
    "import pandas as pd\n",
    "import numpy as np\n",
    "from scipy import stats as st\n",
    "from matplotlib import pyplot as plt\n",
    "import seaborn as sns\n",
    "import re"
   ]
  },
  {
   "cell_type": "code",
   "execution_count": 28,
   "metadata": {},
   "outputs": [],
   "source": [
    "rest_data= pd.read_csv( '/datasets/rest_data_us_upd.csv')"
   ]
  },
  {
   "cell_type": "markdown",
   "metadata": {},
   "source": [
    "## Estudio de datos"
   ]
  },
  {
   "cell_type": "code",
   "execution_count": 29,
   "metadata": {},
   "outputs": [
    {
     "data": {
      "text/html": [
       "<div>\n",
       "<style scoped>\n",
       "    .dataframe tbody tr th:only-of-type {\n",
       "        vertical-align: middle;\n",
       "    }\n",
       "\n",
       "    .dataframe tbody tr th {\n",
       "        vertical-align: top;\n",
       "    }\n",
       "\n",
       "    .dataframe thead th {\n",
       "        text-align: right;\n",
       "    }\n",
       "</style>\n",
       "<table border=\"1\" class=\"dataframe\">\n",
       "  <thead>\n",
       "    <tr style=\"text-align: right;\">\n",
       "      <th></th>\n",
       "      <th>id</th>\n",
       "      <th>number</th>\n",
       "    </tr>\n",
       "  </thead>\n",
       "  <tbody>\n",
       "    <tr>\n",
       "      <th>count</th>\n",
       "      <td>9651.000000</td>\n",
       "      <td>9651.000000</td>\n",
       "    </tr>\n",
       "    <tr>\n",
       "      <th>mean</th>\n",
       "      <td>16611.000000</td>\n",
       "      <td>43.695161</td>\n",
       "    </tr>\n",
       "    <tr>\n",
       "      <th>std</th>\n",
       "      <td>2786.148058</td>\n",
       "      <td>47.622874</td>\n",
       "    </tr>\n",
       "    <tr>\n",
       "      <th>min</th>\n",
       "      <td>11786.000000</td>\n",
       "      <td>1.000000</td>\n",
       "    </tr>\n",
       "    <tr>\n",
       "      <th>25%</th>\n",
       "      <td>14198.500000</td>\n",
       "      <td>14.000000</td>\n",
       "    </tr>\n",
       "    <tr>\n",
       "      <th>50%</th>\n",
       "      <td>16611.000000</td>\n",
       "      <td>27.000000</td>\n",
       "    </tr>\n",
       "    <tr>\n",
       "      <th>75%</th>\n",
       "      <td>19023.500000</td>\n",
       "      <td>46.000000</td>\n",
       "    </tr>\n",
       "    <tr>\n",
       "      <th>max</th>\n",
       "      <td>21436.000000</td>\n",
       "      <td>229.000000</td>\n",
       "    </tr>\n",
       "  </tbody>\n",
       "</table>\n",
       "</div>"
      ],
      "text/plain": [
       "                 id       number\n",
       "count   9651.000000  9651.000000\n",
       "mean   16611.000000    43.695161\n",
       "std     2786.148058    47.622874\n",
       "min    11786.000000     1.000000\n",
       "25%    14198.500000    14.000000\n",
       "50%    16611.000000    27.000000\n",
       "75%    19023.500000    46.000000\n",
       "max    21436.000000   229.000000"
      ]
     },
     "execution_count": 29,
     "metadata": {},
     "output_type": "execute_result"
    }
   ],
   "source": [
    "rest_data.describe()"
   ]
  },
  {
   "cell_type": "code",
   "execution_count": 30,
   "metadata": {},
   "outputs": [
    {
     "data": {
      "text/plain": [
       "id              int64\n",
       "object_name    object\n",
       "address        object\n",
       "chain          object\n",
       "object_type    object\n",
       "number          int64\n",
       "dtype: object"
      ]
     },
     "execution_count": 30,
     "metadata": {},
     "output_type": "execute_result"
    }
   ],
   "source": [
    "rest_data.dtypes"
   ]
  },
  {
   "cell_type": "code",
   "execution_count": 31,
   "metadata": {},
   "outputs": [
    {
     "name": "stdout",
     "output_type": "stream",
     "text": [
      "id             0\n",
      "object_name    0\n",
      "address        0\n",
      "chain          3\n",
      "object_type    0\n",
      "number         0\n",
      "dtype: int64\n"
     ]
    }
   ],
   "source": [
    "print(rest_data.isna().sum())"
   ]
  },
  {
   "cell_type": "code",
   "execution_count": 32,
   "metadata": {},
   "outputs": [
    {
     "name": "stdout",
     "output_type": "stream",
     "text": [
      "id             0\n",
      "object_name    0\n",
      "address        0\n",
      "chain          0\n",
      "object_type    0\n",
      "number         0\n",
      "dtype: int64\n"
     ]
    }
   ],
   "source": [
    "columns_to_replace= ['chain']\n",
    "for col in columns_to_replace:\n",
    "    rest_data[col].fillna('Unknown',inplace =True) \n",
    "    \n",
    "print(rest_data.isna().sum())"
   ]
  },
  {
   "cell_type": "code",
   "execution_count": 33,
   "metadata": {},
   "outputs": [
    {
     "name": "stdout",
     "output_type": "stream",
     "text": [
      "0\n"
     ]
    }
   ],
   "source": [
    "print(rest_data.duplicated().sum())"
   ]
  },
  {
   "cell_type": "code",
   "execution_count": 34,
   "metadata": {},
   "outputs": [
    {
     "data": {
      "text/html": [
       "<div>\n",
       "<style scoped>\n",
       "    .dataframe tbody tr th:only-of-type {\n",
       "        vertical-align: middle;\n",
       "    }\n",
       "\n",
       "    .dataframe tbody tr th {\n",
       "        vertical-align: top;\n",
       "    }\n",
       "\n",
       "    .dataframe thead th {\n",
       "        text-align: right;\n",
       "    }\n",
       "</style>\n",
       "<table border=\"1\" class=\"dataframe\">\n",
       "  <thead>\n",
       "    <tr style=\"text-align: right;\">\n",
       "      <th></th>\n",
       "      <th>id</th>\n",
       "      <th>object_name</th>\n",
       "      <th>address</th>\n",
       "      <th>chain</th>\n",
       "      <th>object_type</th>\n",
       "      <th>number</th>\n",
       "    </tr>\n",
       "  </thead>\n",
       "  <tbody>\n",
       "    <tr>\n",
       "      <th>0</th>\n",
       "      <td>11786</td>\n",
       "      <td>HABITAT COFFEE SHOP</td>\n",
       "      <td>3708 N EAGLE ROCK BLVD</td>\n",
       "      <td>False</td>\n",
       "      <td>Cafe</td>\n",
       "      <td>26</td>\n",
       "    </tr>\n",
       "    <tr>\n",
       "      <th>1</th>\n",
       "      <td>11787</td>\n",
       "      <td>REILLY'S</td>\n",
       "      <td>100 WORLD WAY 120</td>\n",
       "      <td>False</td>\n",
       "      <td>Restaurant</td>\n",
       "      <td>9</td>\n",
       "    </tr>\n",
       "    <tr>\n",
       "      <th>2</th>\n",
       "      <td>11788</td>\n",
       "      <td>STREET CHURROS</td>\n",
       "      <td>6801 HOLLYWOOD BLVD 253</td>\n",
       "      <td>False</td>\n",
       "      <td>Fast Food</td>\n",
       "      <td>20</td>\n",
       "    </tr>\n",
       "    <tr>\n",
       "      <th>3</th>\n",
       "      <td>11789</td>\n",
       "      <td>TRINITI ECHO PARK</td>\n",
       "      <td>1814 W SUNSET BLVD</td>\n",
       "      <td>False</td>\n",
       "      <td>Restaurant</td>\n",
       "      <td>22</td>\n",
       "    </tr>\n",
       "    <tr>\n",
       "      <th>4</th>\n",
       "      <td>11790</td>\n",
       "      <td>POLLEN</td>\n",
       "      <td>2100 ECHO PARK AVE</td>\n",
       "      <td>False</td>\n",
       "      <td>Restaurant</td>\n",
       "      <td>20</td>\n",
       "    </tr>\n",
       "  </tbody>\n",
       "</table>\n",
       "</div>"
      ],
      "text/plain": [
       "      id          object_name                  address  chain object_type  \\\n",
       "0  11786  HABITAT COFFEE SHOP   3708 N EAGLE ROCK BLVD  False        Cafe   \n",
       "1  11787             REILLY'S        100 WORLD WAY 120  False  Restaurant   \n",
       "2  11788       STREET CHURROS  6801 HOLLYWOOD BLVD 253  False   Fast Food   \n",
       "3  11789    TRINITI ECHO PARK       1814 W SUNSET BLVD  False  Restaurant   \n",
       "4  11790               POLLEN       2100 ECHO PARK AVE  False  Restaurant   \n",
       "\n",
       "   number  \n",
       "0      26  \n",
       "1       9  \n",
       "2      20  \n",
       "3      22  \n",
       "4      20  "
      ]
     },
     "execution_count": 34,
     "metadata": {},
     "output_type": "execute_result"
    }
   ],
   "source": [
    "rest_data.head()"
   ]
  },
  {
   "cell_type": "markdown",
   "metadata": {},
   "source": [
    "# Análisis de datos"
   ]
  },
  {
   "cell_type": "markdown",
   "metadata": {},
   "source": [
    "## Proporciones de los distintos tipos de establecimientos"
   ]
  },
  {
   "cell_type": "code",
   "execution_count": 35,
   "metadata": {},
   "outputs": [
    {
     "data": {
      "text/plain": [
       "Text(0.5, 1.0, 'Proporciones de los distintos tipos de establecimeintos')"
      ]
     },
     "execution_count": 35,
     "metadata": {},
     "output_type": "execute_result"
    },
    {
     "data": {
      "image/png": "[encoded data removed]",
      "text/plain": [
       "<Figure size 640x480 with 1 Axes>"
      ]
     },
     "metadata": {},
     "output_type": "display_data"
    }
   ],
   "source": [
    "sns.set_style(\"darkgrid\")\n",
    "sns.countplot(data=rest_data.sort_values(by='object_type'), x=\"object_type\",palette='viridis')\n",
    "plt.xlabel(\"Tipo de Estableciemiento\")\n",
    "plt.ylabel(\"Cantidad\")\n",
    "plt.title(\"Proporciones de los distintos tipos de establecimeintos\")"
   ]
  },
  {
   "cell_type": "markdown",
   "metadata": {},
   "source": [
    "Comentarios: La mayor cantindad de establecimientos son restaurantes. "
   ]
  },
  {
   "cell_type": "markdown",
   "metadata": {},
   "source": [
    "##  Proporciones de los establecimientos que pertenecen a una cadena y de los que no"
   ]
  },
  {
   "cell_type": "code",
   "execution_count": 36,
   "metadata": {},
   "outputs": [],
   "source": [
    "rest_data[\"chain_bool\"] = rest_data[\"chain\"].astype('bool')"
   ]
  },
  {
   "cell_type": "code",
   "execution_count": 37,
   "metadata": {},
   "outputs": [
    {
     "data": {
      "text/plain": [
       "Text(0.5, 1.0, 'Cadenas de Restaurantes Vs No cadenass')"
      ]
     },
     "execution_count": 37,
     "metadata": {},
     "output_type": "execute_result"
    },
    {
     "data": {
      "image/png": "[encoded data removed]",
      "text/plain": [
       "<Figure size 640x480 with 1 Axes>"
      ]
     },
     "metadata": {},
     "output_type": "display_data"
    }
   ],
   "source": [
    "rest_data.groupby(['object_name', 'chain_bool'])['id'].count().reset_index()\n",
    "sns.barplot(data=rest_data.groupby(['object_name', 'chain_bool'])['id'].count().reset_index(),x='chain_bool',y='id',palette='viridis')\n",
    "plt.xlabel(\"Cadenas\")\n",
    "plt.ylabel(\"Cantidad\")\n",
    "plt.title(\"Cadenas de Restaurantes Vs No cadenass\")"
   ]
  },
  {
   "cell_type": "markdown",
   "metadata": {},
   "source": [
    "## ¿Qué tipo de establecimiento es habitualmente una cadena?"
   ]
  },
  {
   "cell_type": "code",
   "execution_count": 38,
   "metadata": {},
   "outputs": [
    {
     "data": {
      "text/html": [
       "<div>\n",
       "<style scoped>\n",
       "    .dataframe tbody tr th:only-of-type {\n",
       "        vertical-align: middle;\n",
       "    }\n",
       "\n",
       "    .dataframe tbody tr th {\n",
       "        vertical-align: top;\n",
       "    }\n",
       "\n",
       "    .dataframe thead th {\n",
       "        text-align: right;\n",
       "    }\n",
       "</style>\n",
       "<table border=\"1\" class=\"dataframe\">\n",
       "  <thead>\n",
       "    <tr style=\"text-align: right;\">\n",
       "      <th></th>\n",
       "      <th>id</th>\n",
       "      <th>object_name</th>\n",
       "      <th>address</th>\n",
       "      <th>chain</th>\n",
       "      <th>object_type</th>\n",
       "      <th>number</th>\n",
       "      <th>chain_bool</th>\n",
       "    </tr>\n",
       "  </thead>\n",
       "  <tbody>\n",
       "    <tr>\n",
       "      <th>0</th>\n",
       "      <td>11786</td>\n",
       "      <td>HABITAT COFFEE SHOP</td>\n",
       "      <td>3708 N EAGLE ROCK BLVD</td>\n",
       "      <td>False</td>\n",
       "      <td>Cafe</td>\n",
       "      <td>26</td>\n",
       "      <td>False</td>\n",
       "    </tr>\n",
       "    <tr>\n",
       "      <th>1</th>\n",
       "      <td>11787</td>\n",
       "      <td>REILLY'S</td>\n",
       "      <td>100 WORLD WAY 120</td>\n",
       "      <td>False</td>\n",
       "      <td>Restaurant</td>\n",
       "      <td>9</td>\n",
       "      <td>False</td>\n",
       "    </tr>\n",
       "    <tr>\n",
       "      <th>2</th>\n",
       "      <td>11788</td>\n",
       "      <td>STREET CHURROS</td>\n",
       "      <td>6801 HOLLYWOOD BLVD 253</td>\n",
       "      <td>False</td>\n",
       "      <td>Fast Food</td>\n",
       "      <td>20</td>\n",
       "      <td>False</td>\n",
       "    </tr>\n",
       "    <tr>\n",
       "      <th>3</th>\n",
       "      <td>11789</td>\n",
       "      <td>TRINITI ECHO PARK</td>\n",
       "      <td>1814 W SUNSET BLVD</td>\n",
       "      <td>False</td>\n",
       "      <td>Restaurant</td>\n",
       "      <td>22</td>\n",
       "      <td>False</td>\n",
       "    </tr>\n",
       "    <tr>\n",
       "      <th>4</th>\n",
       "      <td>11790</td>\n",
       "      <td>POLLEN</td>\n",
       "      <td>2100 ECHO PARK AVE</td>\n",
       "      <td>False</td>\n",
       "      <td>Restaurant</td>\n",
       "      <td>20</td>\n",
       "      <td>False</td>\n",
       "    </tr>\n",
       "    <tr>\n",
       "      <th>...</th>\n",
       "      <td>...</td>\n",
       "      <td>...</td>\n",
       "      <td>...</td>\n",
       "      <td>...</td>\n",
       "      <td>...</td>\n",
       "      <td>...</td>\n",
       "      <td>...</td>\n",
       "    </tr>\n",
       "    <tr>\n",
       "      <th>9646</th>\n",
       "      <td>21432</td>\n",
       "      <td>HALL OF JUSTICE</td>\n",
       "      <td>217 W TEMPLE AVE</td>\n",
       "      <td>False</td>\n",
       "      <td>Restaurant</td>\n",
       "      <td>122</td>\n",
       "      <td>False</td>\n",
       "    </tr>\n",
       "    <tr>\n",
       "      <th>9647</th>\n",
       "      <td>21433</td>\n",
       "      <td>FIN-MELROSE</td>\n",
       "      <td>5750 MELROSE AVE</td>\n",
       "      <td>False</td>\n",
       "      <td>Restaurant</td>\n",
       "      <td>93</td>\n",
       "      <td>False</td>\n",
       "    </tr>\n",
       "    <tr>\n",
       "      <th>9648</th>\n",
       "      <td>21434</td>\n",
       "      <td>JUICY WINGZ</td>\n",
       "      <td>6741 HOLLYWOOD BLVD</td>\n",
       "      <td>True</td>\n",
       "      <td>Fast Food</td>\n",
       "      <td>15</td>\n",
       "      <td>True</td>\n",
       "    </tr>\n",
       "    <tr>\n",
       "      <th>9649</th>\n",
       "      <td>21435</td>\n",
       "      <td>MEDIDATE COFFEE</td>\n",
       "      <td>548 S SPRING ST STE 100</td>\n",
       "      <td>False</td>\n",
       "      <td>Cafe</td>\n",
       "      <td>6</td>\n",
       "      <td>False</td>\n",
       "    </tr>\n",
       "    <tr>\n",
       "      <th>9650</th>\n",
       "      <td>21436</td>\n",
       "      <td>CAFE SPROUTS</td>\n",
       "      <td>1300 S SAN PEDRO ST STE 111</td>\n",
       "      <td>True</td>\n",
       "      <td>Restaurant</td>\n",
       "      <td>19</td>\n",
       "      <td>True</td>\n",
       "    </tr>\n",
       "  </tbody>\n",
       "</table>\n",
       "<p>9651 rows × 7 columns</p>\n",
       "</div>"
      ],
      "text/plain": [
       "         id          object_name                      address  chain  \\\n",
       "0     11786  HABITAT COFFEE SHOP       3708 N EAGLE ROCK BLVD  False   \n",
       "1     11787             REILLY'S            100 WORLD WAY 120  False   \n",
       "2     11788       STREET CHURROS      6801 HOLLYWOOD BLVD 253  False   \n",
       "3     11789    TRINITI ECHO PARK           1814 W SUNSET BLVD  False   \n",
       "4     11790               POLLEN           2100 ECHO PARK AVE  False   \n",
       "...     ...                  ...                          ...    ...   \n",
       "9646  21432      HALL OF JUSTICE             217 W TEMPLE AVE  False   \n",
       "9647  21433          FIN-MELROSE             5750 MELROSE AVE  False   \n",
       "9648  21434          JUICY WINGZ          6741 HOLLYWOOD BLVD   True   \n",
       "9649  21435      MEDIDATE COFFEE      548 S SPRING ST STE 100  False   \n",
       "9650  21436         CAFE SPROUTS  1300 S SAN PEDRO ST STE 111   True   \n",
       "\n",
       "     object_type  number  chain_bool  \n",
       "0           Cafe      26       False  \n",
       "1     Restaurant       9       False  \n",
       "2      Fast Food      20       False  \n",
       "3     Restaurant      22       False  \n",
       "4     Restaurant      20       False  \n",
       "...          ...     ...         ...  \n",
       "9646  Restaurant     122       False  \n",
       "9647  Restaurant      93       False  \n",
       "9648   Fast Food      15        True  \n",
       "9649        Cafe       6       False  \n",
       "9650  Restaurant      19        True  \n",
       "\n",
       "[9651 rows x 7 columns]"
      ]
     },
     "execution_count": 38,
     "metadata": {},
     "output_type": "execute_result"
    }
   ],
   "source": [
    "rest_data"
   ]
  },
  {
   "cell_type": "code",
   "execution_count": 39,
   "metadata": {},
   "outputs": [
    {
     "data": {
      "text/plain": [
       "<AxesSubplot:title={'center':'Porcentaje de establecimientos que son cadena'}, xlabel='Tipo de establecimiento'>"
      ]
     },
     "execution_count": 39,
     "metadata": {},
     "output_type": "execute_result"
    },
    {
     "data": {
      "image/png": "[encoded data removed]",
      "text/plain": [
       "<Figure size 640x480 with 1 Axes>"
      ]
     },
     "metadata": {},
     "output_type": "display_data"
    }
   ],
   "source": [
    "object_type_pivot=rest_data.pivot_table(index='object_type',\n",
    "                                        columns='chain_bool',\n",
    "                                        values='id',\n",
    "                                        aggfunc='count'                \n",
    "                  )\n",
    "object_type_pivot[0][0]=0\n",
    "object_type_pivot['total']=object_type_pivot[0]+object_type_pivot[1]\n",
    "object_type_pivot['porcentage']=(object_type_pivot[1]/object_type_pivot['total'])*100\n",
    "object_type_pivot['porcentage'].plot(kind='bar',xlabel='Tipo de establecimiento',title='Porcentaje de establecimientos que son cadena')"
   ]
  },
  {
   "cell_type": "markdown",
   "metadata": {},
   "source": [
    "Comentario: El tipo de establecimiento con mayor tipo de cadena son los restaurantes y fast food. "
   ]
  },
  {
   "cell_type": "markdown",
   "metadata": {},
   "source": [
    "## ¿Qué caracteriza a las cadenas: muchos establecimientos con un pequeño número de asientos o unos pocos establecimientos con un montón de asientos?"
   ]
  },
  {
   "cell_type": "code",
   "execution_count": 40,
   "metadata": {},
   "outputs": [
    {
     "data": {
      "text/plain": [
       "Text(0.5, 1.0, 'Cantidad de sillas por tipo de establecimientos')"
      ]
     },
     "execution_count": 40,
     "metadata": {},
     "output_type": "execute_result"
    },
    {
     "data": {
      "image/png": "[encoded data removed]",
      "text/plain": [
       "<Figure size 640x480 with 1 Axes>"
      ]
     },
     "metadata": {},
     "output_type": "display_data"
    }
   ],
   "source": [
    "sns.barplot(data=rest_data, x='chain_bool',y='number',palette='viridis')\n",
    "plt.xlabel(\"Tipo de establecimientos\")\n",
    "plt.ylabel(\"Cantidad\")\n",
    "plt.title(\"Cantidad de sillas por tipo de establecimientos\")"
   ]
  },
  {
   "cell_type": "markdown",
   "metadata": {},
   "source": [
    "Comentarios: Los establecimiento de cadena tienen menor cantidad de sillas en sus establecimientos."
   ]
  },
  {
   "cell_type": "markdown",
   "metadata": {},
   "source": [
    "## Determina el promedio de número de asientos para cada tipo de restaurante. De promedio, ¿qué tipo de restaurante tiene el mayor número de asientos?"
   ]
  },
  {
   "cell_type": "code",
   "execution_count": 41,
   "metadata": {},
   "outputs": [
    {
     "data": {
      "text/plain": [
       "Text(0.5, 1.0, 'Promedio de sillas por numero de establecimientos')"
      ]
     },
     "execution_count": 41,
     "metadata": {},
     "output_type": "execute_result"
    },
    {
     "data": {
      "image/png": "[encoded data removed]",
      "text/plain": [
       "<Figure size 640x480 with 1 Axes>"
      ]
     },
     "metadata": {},
     "output_type": "display_data"
    }
   ],
   "source": [
    "sns.barplot(data=rest_data.sort_values(by='object_type'), y='object_type',x='number',palette='viridis')\n",
    "plt.xlabel(\"Cantidad\")\n",
    "plt.ylabel(\"Tipo de establecimientos\")\n",
    "plt.title(\"Promedio de sillas por numero de establecimientos\")"
   ]
  },
  {
   "cell_type": "markdown",
   "metadata": {},
   "source": [
    "Comentarios: el tipo de establecimiento con mayor numero de sillas es los restaurantes."
   ]
  },
  {
   "cell_type": "markdown",
   "metadata": {},
   "source": [
    "## Datos de los nombres de las calles de la columna address en una columna separada."
   ]
  },
  {
   "cell_type": "markdown",
   "metadata": {},
   "source": [
    "def quitar_numeros(texto):\n",
    "    return re.sub(r'\\d+', '', texto)\n",
    "rest_data['street_name'] = rest_data['address'].map(quitar_numeros) \n",
    "rest_data"
   ]
  },
  {
   "cell_type": "code",
   "execution_count": 42,
   "metadata": {},
   "outputs": [
    {
     "data": {
      "text/html": [
       "<div>\n",
       "<style scoped>\n",
       "    .dataframe tbody tr th:only-of-type {\n",
       "        vertical-align: middle;\n",
       "    }\n",
       "\n",
       "    .dataframe tbody tr th {\n",
       "        vertical-align: top;\n",
       "    }\n",
       "\n",
       "    .dataframe thead th {\n",
       "        text-align: right;\n",
       "    }\n",
       "</style>\n",
       "<table border=\"1\" class=\"dataframe\">\n",
       "  <thead>\n",
       "    <tr style=\"text-align: right;\">\n",
       "      <th></th>\n",
       "      <th>id</th>\n",
       "      <th>object_name</th>\n",
       "      <th>address</th>\n",
       "      <th>chain</th>\n",
       "      <th>object_type</th>\n",
       "      <th>number</th>\n",
       "      <th>chain_bool</th>\n",
       "      <th>street_name</th>\n",
       "    </tr>\n",
       "  </thead>\n",
       "  <tbody>\n",
       "    <tr>\n",
       "      <th>0</th>\n",
       "      <td>11786</td>\n",
       "      <td>HABITAT COFFEE SHOP</td>\n",
       "      <td>3708 N EAGLE ROCK BLVD</td>\n",
       "      <td>False</td>\n",
       "      <td>Cafe</td>\n",
       "      <td>26</td>\n",
       "      <td>False</td>\n",
       "      <td>N EAGLE ROCK BLVD</td>\n",
       "    </tr>\n",
       "    <tr>\n",
       "      <th>1</th>\n",
       "      <td>11787</td>\n",
       "      <td>REILLY'S</td>\n",
       "      <td>100 WORLD WAY 120</td>\n",
       "      <td>False</td>\n",
       "      <td>Restaurant</td>\n",
       "      <td>9</td>\n",
       "      <td>False</td>\n",
       "      <td>WORLD WAY 120</td>\n",
       "    </tr>\n",
       "    <tr>\n",
       "      <th>2</th>\n",
       "      <td>11788</td>\n",
       "      <td>STREET CHURROS</td>\n",
       "      <td>6801 HOLLYWOOD BLVD 253</td>\n",
       "      <td>False</td>\n",
       "      <td>Fast Food</td>\n",
       "      <td>20</td>\n",
       "      <td>False</td>\n",
       "      <td>HOLLYWOOD BLVD 253</td>\n",
       "    </tr>\n",
       "    <tr>\n",
       "      <th>3</th>\n",
       "      <td>11789</td>\n",
       "      <td>TRINITI ECHO PARK</td>\n",
       "      <td>1814 W SUNSET BLVD</td>\n",
       "      <td>False</td>\n",
       "      <td>Restaurant</td>\n",
       "      <td>22</td>\n",
       "      <td>False</td>\n",
       "      <td>W SUNSET BLVD</td>\n",
       "    </tr>\n",
       "    <tr>\n",
       "      <th>4</th>\n",
       "      <td>11790</td>\n",
       "      <td>POLLEN</td>\n",
       "      <td>2100 ECHO PARK AVE</td>\n",
       "      <td>False</td>\n",
       "      <td>Restaurant</td>\n",
       "      <td>20</td>\n",
       "      <td>False</td>\n",
       "      <td>ECHO PARK AVE</td>\n",
       "    </tr>\n",
       "    <tr>\n",
       "      <th>...</th>\n",
       "      <td>...</td>\n",
       "      <td>...</td>\n",
       "      <td>...</td>\n",
       "      <td>...</td>\n",
       "      <td>...</td>\n",
       "      <td>...</td>\n",
       "      <td>...</td>\n",
       "      <td>...</td>\n",
       "    </tr>\n",
       "    <tr>\n",
       "      <th>9646</th>\n",
       "      <td>21432</td>\n",
       "      <td>HALL OF JUSTICE</td>\n",
       "      <td>217 W TEMPLE AVE</td>\n",
       "      <td>False</td>\n",
       "      <td>Restaurant</td>\n",
       "      <td>122</td>\n",
       "      <td>False</td>\n",
       "      <td>W TEMPLE AVE</td>\n",
       "    </tr>\n",
       "    <tr>\n",
       "      <th>9647</th>\n",
       "      <td>21433</td>\n",
       "      <td>FIN-MELROSE</td>\n",
       "      <td>5750 MELROSE AVE</td>\n",
       "      <td>False</td>\n",
       "      <td>Restaurant</td>\n",
       "      <td>93</td>\n",
       "      <td>False</td>\n",
       "      <td>MELROSE AVE</td>\n",
       "    </tr>\n",
       "    <tr>\n",
       "      <th>9648</th>\n",
       "      <td>21434</td>\n",
       "      <td>JUICY WINGZ</td>\n",
       "      <td>6741 HOLLYWOOD BLVD</td>\n",
       "      <td>True</td>\n",
       "      <td>Fast Food</td>\n",
       "      <td>15</td>\n",
       "      <td>True</td>\n",
       "      <td>HOLLYWOOD BLVD</td>\n",
       "    </tr>\n",
       "    <tr>\n",
       "      <th>9649</th>\n",
       "      <td>21435</td>\n",
       "      <td>MEDIDATE COFFEE</td>\n",
       "      <td>548 S SPRING ST STE 100</td>\n",
       "      <td>False</td>\n",
       "      <td>Cafe</td>\n",
       "      <td>6</td>\n",
       "      <td>False</td>\n",
       "      <td>S SPRING ST STE 100</td>\n",
       "    </tr>\n",
       "    <tr>\n",
       "      <th>9650</th>\n",
       "      <td>21436</td>\n",
       "      <td>CAFE SPROUTS</td>\n",
       "      <td>1300 S SAN PEDRO ST STE 111</td>\n",
       "      <td>True</td>\n",
       "      <td>Restaurant</td>\n",
       "      <td>19</td>\n",
       "      <td>True</td>\n",
       "      <td>S SAN PEDRO ST STE 111</td>\n",
       "    </tr>\n",
       "  </tbody>\n",
       "</table>\n",
       "<p>9651 rows × 8 columns</p>\n",
       "</div>"
      ],
      "text/plain": [
       "         id          object_name                      address  chain  \\\n",
       "0     11786  HABITAT COFFEE SHOP       3708 N EAGLE ROCK BLVD  False   \n",
       "1     11787             REILLY'S            100 WORLD WAY 120  False   \n",
       "2     11788       STREET CHURROS      6801 HOLLYWOOD BLVD 253  False   \n",
       "3     11789    TRINITI ECHO PARK           1814 W SUNSET BLVD  False   \n",
       "4     11790               POLLEN           2100 ECHO PARK AVE  False   \n",
       "...     ...                  ...                          ...    ...   \n",
       "9646  21432      HALL OF JUSTICE             217 W TEMPLE AVE  False   \n",
       "9647  21433          FIN-MELROSE             5750 MELROSE AVE  False   \n",
       "9648  21434          JUICY WINGZ          6741 HOLLYWOOD BLVD   True   \n",
       "9649  21435      MEDIDATE COFFEE      548 S SPRING ST STE 100  False   \n",
       "9650  21436         CAFE SPROUTS  1300 S SAN PEDRO ST STE 111   True   \n",
       "\n",
       "     object_type  number  chain_bool             street_name  \n",
       "0           Cafe      26       False       N EAGLE ROCK BLVD  \n",
       "1     Restaurant       9       False           WORLD WAY 120  \n",
       "2      Fast Food      20       False      HOLLYWOOD BLVD 253  \n",
       "3     Restaurant      22       False           W SUNSET BLVD  \n",
       "4     Restaurant      20       False           ECHO PARK AVE  \n",
       "...          ...     ...         ...                     ...  \n",
       "9646  Restaurant     122       False            W TEMPLE AVE  \n",
       "9647  Restaurant      93       False             MELROSE AVE  \n",
       "9648   Fast Food      15        True          HOLLYWOOD BLVD  \n",
       "9649        Cafe       6       False     S SPRING ST STE 100  \n",
       "9650  Restaurant      19        True  S SAN PEDRO ST STE 111  \n",
       "\n",
       "[9651 rows x 8 columns]"
      ]
     },
     "execution_count": 42,
     "metadata": {},
     "output_type": "execute_result"
    }
   ],
   "source": [
    "rest_data['street_name']=rest_data['address'].apply(lambda x: ' '.join(x.split()[1:]))\n",
    "rest_data"
   ]
  },
  {
   "cell_type": "markdown",
   "metadata": {},
   "source": [
    "## Diez mejores calles por número de restaurantes."
   ]
  },
  {
   "cell_type": "code",
   "execution_count": 47,
   "metadata": {},
   "outputs": [],
   "source": [
    "restaurant_filter=rest_data[(rest_data['object_type']=='Restaurant')]"
   ]
  },
  {
   "cell_type": "code",
   "execution_count": 49,
   "metadata": {},
   "outputs": [
    {
     "data": {
      "text/plain": [
       "W SUNSET BLVD             296\n",
       "W PICO BLVD               288\n",
       "HOLLYWOOD BLVD            167\n",
       "WILSHIRE BLVD             161\n",
       "S VERMONT AVE             148\n",
       "                         ... \n",
       "S WESTMORELAND AVE 103      1\n",
       "THE GROVE DR STEK9          1\n",
       "SANTA MONICA BLVD 1280      1\n",
       "BEVERLY BLVD STE 2          1\n",
       "S WESTERN AVE 222           1\n",
       "Name: street_name, Length: 3074, dtype: int64"
      ]
     },
     "execution_count": 49,
     "metadata": {},
     "output_type": "execute_result"
    }
   ],
   "source": [
    "rest_data.street_name.value_counts()"
   ]
  },
  {
   "cell_type": "code",
   "execution_count": 44,
   "metadata": {},
   "outputs": [],
   "source": [
    "restaurant_count=restaurant_filter.groupby('street_name')['object_name'].count().sort_values().reset_index()"
   ]
  },
  {
   "cell_type": "code",
   "execution_count": 45,
   "metadata": {},
   "outputs": [
    {
     "data": {
      "text/plain": [
       "Text(0.5, 1.0, 'Top 10 de las calles con mayor numero de restaurantes')"
      ]
     },
     "execution_count": 45,
     "metadata": {},
     "output_type": "execute_result"
    },
    {
     "data": {
      "image/png": "[encoded data removed]",
      "text/plain": [
       "<Figure size 640x480 with 1 Axes>"
      ]
     },
     "metadata": {},
     "output_type": "display_data"
    }
   ],
   "source": [
    "sns.barplot(data=restaurant_count.tail(10), x='object_name',y=\"street_name\",palette='viridis')\n",
    "plt.xlabel(\"Cantidad de restaurantes\")\n",
    "plt.ylabel(\"Calles\")\n",
    "plt.title(\"Top 10 de las calles con mayor numero de restaurantes\")"
   ]
  },
  {
   "cell_type": "markdown",
   "metadata": {},
   "source": [
    "## Número de calles que solo tienen un restaurante."
   ]
  },
  {
   "cell_type": "code",
   "execution_count": 46,
   "metadata": {},
   "outputs": [
    {
     "data": {
      "text/html": [
       "<div>\n",
       "<style scoped>\n",
       "    .dataframe tbody tr th:only-of-type {\n",
       "        vertical-align: middle;\n",
       "    }\n",
       "\n",
       "    .dataframe tbody tr th {\n",
       "        vertical-align: top;\n",
       "    }\n",
       "\n",
       "    .dataframe thead th {\n",
       "        text-align: right;\n",
       "    }\n",
       "</style>\n",
       "<table border=\"1\" class=\"dataframe\">\n",
       "  <thead>\n",
       "    <tr style=\"text-align: right;\">\n",
       "      <th></th>\n",
       "      <th>street_name</th>\n",
       "      <th>object_name</th>\n",
       "    </tr>\n",
       "  </thead>\n",
       "  <tbody>\n",
       "    <tr>\n",
       "      <th>0</th>\n",
       "      <td>1/2 3RD ST</td>\n",
       "      <td>1</td>\n",
       "    </tr>\n",
       "    <tr>\n",
       "      <th>1</th>\n",
       "      <td>SANTA MONICA BLVD 25</td>\n",
       "      <td>1</td>\n",
       "    </tr>\n",
       "    <tr>\n",
       "      <th>2</th>\n",
       "      <td>SANTA MONICA BLVD 2400</td>\n",
       "      <td>1</td>\n",
       "    </tr>\n",
       "    <tr>\n",
       "      <th>3</th>\n",
       "      <td>SANTA MONICA BLVD 2300</td>\n",
       "      <td>1</td>\n",
       "    </tr>\n",
       "    <tr>\n",
       "      <th>4</th>\n",
       "      <td>SANTA MONICA BLVD 202</td>\n",
       "      <td>1</td>\n",
       "    </tr>\n",
       "  </tbody>\n",
       "</table>\n",
       "</div>"
      ],
      "text/plain": [
       "              street_name  object_name\n",
       "0              1/2 3RD ST            1\n",
       "1    SANTA MONICA BLVD 25            1\n",
       "2  SANTA MONICA BLVD 2400            1\n",
       "3  SANTA MONICA BLVD 2300            1\n",
       "4   SANTA MONICA BLVD 202            1"
      ]
     },
     "execution_count": 46,
     "metadata": {},
     "output_type": "execute_result"
    }
   ],
   "source": [
    "restaurant_count.query('object_name==1').head(5)"
   ]
  },
  {
   "cell_type": "code",
   "execution_count": 51,
   "metadata": {},
   "outputs": [
    {
     "data": {
      "text/plain": [
       "1972"
      ]
     },
     "execution_count": 51,
     "metadata": {},
     "output_type": "execute_result"
    }
   ],
   "source": [
    "len(restaurant_count.query('object_name==1'))"
   ]
  },
  {
   "cell_type": "markdown",
   "metadata": {},
   "source": [
    "Conclusion: debido a la cantidad de datos se mostraran el top 5 de ellos. "
   ]
  },
  {
   "cell_type": "markdown",
   "metadata": {},
   "source": [
    "## Para las calles con muchos restaurantes, analiza la distribución del número de asientos"
   ]
  },
  {
   "cell_type": "code",
   "execution_count": 24,
   "metadata": {},
   "outputs": [
    {
     "data": {
      "text/html": [
       "<div>\n",
       "<style scoped>\n",
       "    .dataframe tbody tr th:only-of-type {\n",
       "        vertical-align: middle;\n",
       "    }\n",
       "\n",
       "    .dataframe tbody tr th {\n",
       "        vertical-align: top;\n",
       "    }\n",
       "\n",
       "    .dataframe thead th {\n",
       "        text-align: right;\n",
       "    }\n",
       "</style>\n",
       "<table border=\"1\" class=\"dataframe\">\n",
       "  <thead>\n",
       "    <tr style=\"text-align: right;\">\n",
       "      <th></th>\n",
       "      <th>object_name</th>\n",
       "    </tr>\n",
       "  </thead>\n",
       "  <tbody>\n",
       "    <tr>\n",
       "      <th>count</th>\n",
       "      <td>2486.000000</td>\n",
       "    </tr>\n",
       "    <tr>\n",
       "      <th>mean</th>\n",
       "      <td>2.918343</td>\n",
       "    </tr>\n",
       "    <tr>\n",
       "      <th>std</th>\n",
       "      <td>10.830437</td>\n",
       "    </tr>\n",
       "    <tr>\n",
       "      <th>min</th>\n",
       "      <td>1.000000</td>\n",
       "    </tr>\n",
       "    <tr>\n",
       "      <th>50%</th>\n",
       "      <td>1.000000</td>\n",
       "    </tr>\n",
       "    <tr>\n",
       "      <th>75%</th>\n",
       "      <td>1.000000</td>\n",
       "    </tr>\n",
       "    <tr>\n",
       "      <th>85%</th>\n",
       "      <td>2.000000</td>\n",
       "    </tr>\n",
       "    <tr>\n",
       "      <th>90%</th>\n",
       "      <td>3.000000</td>\n",
       "    </tr>\n",
       "    <tr>\n",
       "      <th>95%</th>\n",
       "      <td>7.000000</td>\n",
       "    </tr>\n",
       "    <tr>\n",
       "      <th>97.5%</th>\n",
       "      <td>19.875000</td>\n",
       "    </tr>\n",
       "    <tr>\n",
       "      <th>max</th>\n",
       "      <td>218.000000</td>\n",
       "    </tr>\n",
       "  </tbody>\n",
       "</table>\n",
       "</div>"
      ],
      "text/plain": [
       "       object_name\n",
       "count  2486.000000\n",
       "mean      2.918343\n",
       "std      10.830437\n",
       "min       1.000000\n",
       "50%       1.000000\n",
       "75%       1.000000\n",
       "85%       2.000000\n",
       "90%       3.000000\n",
       "95%       7.000000\n",
       "97.5%    19.875000\n",
       "max     218.000000"
      ]
     },
     "execution_count": 24,
     "metadata": {},
     "output_type": "execute_result"
    }
   ],
   "source": [
    "restaurant_count.describe(percentiles=[0.5,0.75,0.85,0.90,0.95,0.975])"
   ]
  },
  {
   "cell_type": "code",
   "execution_count": 25,
   "metadata": {},
   "outputs": [],
   "source": [
    "top_streets= restaurant_count.query('object_name>=8')['street_name'].unique()"
   ]
  },
  {
   "cell_type": "code",
   "execution_count": 26,
   "metadata": {},
   "outputs": [
    {
     "data": {
      "text/plain": [
       "<matplotlib.legend.Legend at 0x7f51b3734670>"
      ]
     },
     "execution_count": 26,
     "metadata": {},
     "output_type": "execute_result"
    },
    {
     "data": {
      "image/png": "[encoded data removed]",
      "text/plain": [
       "<Figure size 640x480 with 1 Axes>"
      ]
     },
     "metadata": {},
     "output_type": "display_data"
    }
   ],
   "source": [
    "rest_data[rest_data['street_name'].isin(top_streets)]['number'].hist(alpha=0.5,density=True,label='Top Streets')\n",
    "rest_data[~rest_data['street_name'].isin(top_streets)]['number'].hist(alpha=0.5,density=True,label='No top streets')\n",
    "plt.legend()"
   ]
  },
  {
   "cell_type": "markdown",
   "metadata": {},
   "source": [
    "Conclusion: se decidio usar el 10% de los datos, los cuales son las calles con mas de 8 restaurantes, en este grafico comparativo se puede notar que no haymuhca diferencia en la caltidad de asientos. "
   ]
  },
  {
   "cell_type": "code",
   "execution_count": null,
   "metadata": {},
   "outputs": [],
   "source": []
  }
 ],
 "metadata": {
  "ExecuteTimeLog": [
   {
    "duration": 4956,
    "start_time": "2024-06-09T23:54:08.845Z"
   },
   {
    "duration": 37,
    "start_time": "2024-06-09T23:55:26.871Z"
   },
   {
    "duration": 27,
    "start_time": "2024-06-09T23:56:07.338Z"
   },
   {
    "duration": 192,
    "start_time": "2024-06-09T23:56:50.031Z"
   },
   {
    "duration": 7,
    "start_time": "2024-06-09T23:57:05.203Z"
   },
   {
    "duration": 9,
    "start_time": "2024-06-09T23:57:57.042Z"
   },
   {
    "duration": 8,
    "start_time": "2024-06-10T00:04:35.243Z"
   },
   {
    "duration": 286,
    "start_time": "2024-06-10T00:04:40.464Z"
   },
   {
    "duration": 11,
    "start_time": "2024-06-10T00:04:51.161Z"
   },
   {
    "duration": 12,
    "start_time": "2024-06-10T00:05:18.758Z"
   },
   {
    "duration": 3,
    "start_time": "2024-06-10T00:08:44.632Z"
   },
   {
    "duration": 18,
    "start_time": "2024-06-10T00:41:46.935Z"
   },
   {
    "duration": 10,
    "start_time": "2024-06-10T00:44:13.718Z"
   },
   {
    "duration": 21,
    "start_time": "2024-06-10T00:44:23.108Z"
   },
   {
    "duration": 17,
    "start_time": "2024-06-10T00:44:55.120Z"
   },
   {
    "duration": 7,
    "start_time": "2024-06-10T00:57:29.317Z"
   },
   {
    "duration": 12,
    "start_time": "2024-06-10T00:57:41.229Z"
   },
   {
    "duration": 436,
    "start_time": "2024-06-10T00:58:01.167Z"
   },
   {
    "duration": 13,
    "start_time": "2024-06-10T00:58:49.752Z"
   },
   {
    "duration": 77,
    "start_time": "2024-06-10T00:58:56.939Z"
   },
   {
    "duration": 220,
    "start_time": "2024-06-10T00:59:42.609Z"
   },
   {
    "duration": 205,
    "start_time": "2024-06-10T01:01:39.137Z"
   },
   {
    "duration": 202,
    "start_time": "2024-06-10T01:01:51.688Z"
   },
   {
    "duration": 13,
    "start_time": "2024-06-10T01:03:00.501Z"
   },
   {
    "duration": 14,
    "start_time": "2024-06-10T01:03:20.293Z"
   },
   {
    "duration": 84,
    "start_time": "2024-06-10T01:05:13.599Z"
   },
   {
    "duration": 4998,
    "start_time": "2024-06-10T20:34:55.901Z"
   },
   {
    "duration": 39,
    "start_time": "2024-06-10T20:35:00.903Z"
   },
   {
    "duration": 24,
    "start_time": "2024-06-10T20:35:00.944Z"
   },
   {
    "duration": 8,
    "start_time": "2024-06-10T20:35:00.971Z"
   },
   {
    "duration": 9,
    "start_time": "2024-06-10T20:35:00.984Z"
   },
   {
    "duration": 11,
    "start_time": "2024-06-10T20:35:01.033Z"
   },
   {
    "duration": 13,
    "start_time": "2024-06-10T20:35:01.047Z"
   },
   {
    "duration": 18,
    "start_time": "2024-06-10T20:35:01.063Z"
   },
   {
    "duration": 54,
    "start_time": "2024-06-10T20:35:01.084Z"
   },
   {
    "duration": 556,
    "start_time": "2024-06-10T20:35:01.141Z"
   },
   {
    "duration": 190,
    "start_time": "2024-06-10T20:36:42.801Z"
   },
   {
    "duration": 944,
    "start_time": "2024-06-10T20:37:45.698Z"
   },
   {
    "duration": 102,
    "start_time": "2024-06-10T20:39:26.491Z"
   },
   {
    "duration": 6,
    "start_time": "2024-06-10T20:41:39.709Z"
   },
   {
    "duration": 518,
    "start_time": "2024-06-10T20:41:48.558Z"
   },
   {
    "duration": 27,
    "start_time": "2024-06-10T20:43:54.571Z"
   },
   {
    "duration": 147,
    "start_time": "2024-06-10T20:45:25.756Z"
   },
   {
    "duration": 177,
    "start_time": "2024-06-10T20:45:38.574Z"
   },
   {
    "duration": 181,
    "start_time": "2024-06-10T20:47:10.471Z"
   },
   {
    "duration": 198,
    "start_time": "2024-06-10T20:47:54.501Z"
   },
   {
    "duration": 322,
    "start_time": "2024-06-10T20:50:47.212Z"
   },
   {
    "duration": 154,
    "start_time": "2024-06-10T20:51:45.643Z"
   },
   {
    "duration": 29,
    "start_time": "2024-06-10T20:53:50.597Z"
   },
   {
    "duration": 28,
    "start_time": "2024-06-10T20:53:56.173Z"
   },
   {
    "duration": 26,
    "start_time": "2024-06-10T20:54:17.684Z"
   },
   {
    "duration": 354,
    "start_time": "2024-06-10T20:55:16.217Z"
   },
   {
    "duration": 309,
    "start_time": "2024-06-11T00:58:53.732Z"
   },
   {
    "duration": 4917,
    "start_time": "2024-06-11T00:59:01.338Z"
   },
   {
    "duration": 38,
    "start_time": "2024-06-11T00:59:06.259Z"
   },
   {
    "duration": 31,
    "start_time": "2024-06-11T00:59:06.300Z"
   },
   {
    "duration": 9,
    "start_time": "2024-06-11T00:59:06.336Z"
   },
   {
    "duration": 9,
    "start_time": "2024-06-11T00:59:06.348Z"
   },
   {
    "duration": 12,
    "start_time": "2024-06-11T00:59:06.392Z"
   },
   {
    "duration": 15,
    "start_time": "2024-06-11T00:59:06.407Z"
   },
   {
    "duration": 23,
    "start_time": "2024-06-11T00:59:06.425Z"
   },
   {
    "duration": 1264,
    "start_time": "2024-06-11T00:59:06.451Z"
   },
   {
    "duration": 0,
    "start_time": "2024-06-11T00:59:07.718Z"
   },
   {
    "duration": 0,
    "start_time": "2024-06-11T00:59:07.721Z"
   },
   {
    "duration": 0,
    "start_time": "2024-06-11T00:59:07.723Z"
   },
   {
    "duration": 0,
    "start_time": "2024-06-11T00:59:07.725Z"
   },
   {
    "duration": 0,
    "start_time": "2024-06-11T00:59:07.728Z"
   },
   {
    "duration": 0,
    "start_time": "2024-06-11T00:59:07.730Z"
   },
   {
    "duration": 214,
    "start_time": "2024-06-11T01:00:13.730Z"
   },
   {
    "duration": 171,
    "start_time": "2024-06-11T01:00:30.954Z"
   },
   {
    "duration": 209,
    "start_time": "2024-06-11T01:00:49.506Z"
   },
   {
    "duration": 1272,
    "start_time": "2024-06-11T01:01:26.039Z"
   },
   {
    "duration": 24,
    "start_time": "2024-06-11T01:01:27.315Z"
   },
   {
    "duration": 23,
    "start_time": "2024-06-11T01:01:27.343Z"
   },
   {
    "duration": 28,
    "start_time": "2024-06-11T01:01:27.368Z"
   },
   {
    "duration": 9,
    "start_time": "2024-06-11T01:01:27.402Z"
   },
   {
    "duration": 12,
    "start_time": "2024-06-11T01:01:27.414Z"
   },
   {
    "duration": 61,
    "start_time": "2024-06-11T01:01:27.429Z"
   },
   {
    "duration": 227,
    "start_time": "2024-06-11T01:01:27.494Z"
   },
   {
    "duration": 5,
    "start_time": "2024-06-11T01:01:27.724Z"
   },
   {
    "duration": 539,
    "start_time": "2024-06-11T01:01:27.732Z"
   },
   {
    "duration": 259,
    "start_time": "2024-06-11T01:01:28.274Z"
   },
   {
    "duration": 355,
    "start_time": "2024-06-11T01:01:28.536Z"
   },
   {
    "duration": 164,
    "start_time": "2024-06-11T01:01:28.894Z"
   },
   {
    "duration": 384,
    "start_time": "2024-06-11T01:01:29.063Z"
   },
   {
    "duration": 930,
    "start_time": "2024-06-11T01:27:26.199Z"
   },
   {
    "duration": 10,
    "start_time": "2024-06-11T01:28:17.594Z"
   },
   {
    "duration": 126,
    "start_time": "2024-06-11T01:29:28.004Z"
   },
   {
    "duration": 88,
    "start_time": "2024-06-11T01:30:20.798Z"
   },
   {
    "duration": 97,
    "start_time": "2024-06-11T01:31:10.708Z"
   },
   {
    "duration": 1346,
    "start_time": "2024-06-11T01:33:18.900Z"
   },
   {
    "duration": 30,
    "start_time": "2024-06-11T01:33:20.250Z"
   },
   {
    "duration": 44,
    "start_time": "2024-06-11T01:33:20.283Z"
   },
   {
    "duration": 8,
    "start_time": "2024-06-11T01:33:20.330Z"
   },
   {
    "duration": 9,
    "start_time": "2024-06-11T01:33:20.344Z"
   },
   {
    "duration": 11,
    "start_time": "2024-06-11T01:33:20.391Z"
   },
   {
    "duration": 16,
    "start_time": "2024-06-11T01:33:20.406Z"
   },
   {
    "duration": 245,
    "start_time": "2024-06-11T01:33:20.427Z"
   },
   {
    "duration": 17,
    "start_time": "2024-06-11T01:33:20.675Z"
   },
   {
    "duration": 402,
    "start_time": "2024-06-11T01:33:20.695Z"
   },
   {
    "duration": 634,
    "start_time": "2024-06-11T01:33:21.099Z"
   },
   {
    "duration": 207,
    "start_time": "2024-06-11T01:33:21.736Z"
   },
   {
    "duration": 363,
    "start_time": "2024-06-11T01:33:21.946Z"
   },
   {
    "duration": 0,
    "start_time": "2024-06-11T01:36:47.458Z"
   },
   {
    "duration": 0,
    "start_time": "2024-06-11T01:36:47.461Z"
   },
   {
    "duration": 108,
    "start_time": "2024-06-11T01:39:37.679Z"
   },
   {
    "duration": 195209,
    "start_time": "2024-06-11T01:40:01.521Z"
   },
   {
    "duration": 264,
    "start_time": "2024-06-11T01:45:20.683Z"
   },
   {
    "duration": 9,
    "start_time": "2024-06-11T01:45:45.548Z"
   },
   {
    "duration": 1541,
    "start_time": "2024-06-11T01:51:52.538Z"
   },
   {
    "duration": 28,
    "start_time": "2024-06-11T01:51:54.090Z"
   },
   {
    "duration": 73,
    "start_time": "2024-06-11T01:51:54.121Z"
   },
   {
    "duration": 8,
    "start_time": "2024-06-11T01:51:54.198Z"
   },
   {
    "duration": 9,
    "start_time": "2024-06-11T01:51:54.209Z"
   },
   {
    "duration": 11,
    "start_time": "2024-06-11T01:51:54.222Z"
   },
   {
    "duration": 61,
    "start_time": "2024-06-11T01:51:54.237Z"
   },
   {
    "duration": 304,
    "start_time": "2024-06-11T01:51:54.302Z"
   },
   {
    "duration": 8,
    "start_time": "2024-06-11T01:51:54.610Z"
   },
   {
    "duration": 593,
    "start_time": "2024-06-11T01:51:54.624Z"
   },
   {
    "duration": 262,
    "start_time": "2024-06-11T01:51:55.220Z"
   },
   {
    "duration": 340,
    "start_time": "2024-06-11T01:51:55.492Z"
   },
   {
    "duration": 374,
    "start_time": "2024-06-11T01:51:55.836Z"
   },
   {
    "duration": 6,
    "start_time": "2024-06-11T01:51:56.214Z"
   },
   {
    "duration": 1012,
    "start_time": "2024-06-11T01:54:52.383Z"
   },
   {
    "duration": 1592,
    "start_time": "2024-06-11T01:58:07.215Z"
   },
   {
    "duration": 582,
    "start_time": "2024-06-11T02:00:28.068Z"
   },
   {
    "duration": 198,
    "start_time": "2024-06-11T02:01:05.943Z"
   },
   {
    "duration": 895,
    "start_time": "2024-06-11T02:01:14.796Z"
   },
   {
    "duration": 208,
    "start_time": "2024-06-11T02:01:23.603Z"
   },
   {
    "duration": 463,
    "start_time": "2024-06-11T02:03:40.366Z"
   },
   {
    "duration": 106,
    "start_time": "2024-06-11T02:04:22.745Z"
   },
   {
    "duration": 531,
    "start_time": "2024-06-11T02:04:35.500Z"
   },
   {
    "duration": 6,
    "start_time": "2024-06-11T02:05:17.014Z"
   },
   {
    "duration": 92,
    "start_time": "2024-06-11T02:05:25.228Z"
   },
   {
    "duration": 30,
    "start_time": "2024-06-11T02:06:37.338Z"
   },
   {
    "duration": 26,
    "start_time": "2024-06-11T02:06:51.862Z"
   },
   {
    "duration": 31,
    "start_time": "2024-06-11T02:07:27.238Z"
   },
   {
    "duration": 83,
    "start_time": "2024-06-11T02:07:48.181Z"
   },
   {
    "duration": 103,
    "start_time": "2024-06-11T02:08:10.161Z"
   },
   {
    "duration": 6,
    "start_time": "2024-06-11T02:08:43.046Z"
   },
   {
    "duration": 9,
    "start_time": "2024-06-11T02:08:49.612Z"
   },
   {
    "duration": 199,
    "start_time": "2024-06-11T02:09:01.831Z"
   },
   {
    "duration": 27,
    "start_time": "2024-06-11T02:11:21.522Z"
   },
   {
    "duration": 30,
    "start_time": "2024-06-11T02:12:02.058Z"
   },
   {
    "duration": 98,
    "start_time": "2024-06-11T02:12:42.913Z"
   },
   {
    "duration": 7,
    "start_time": "2024-06-11T02:13:07.988Z"
   },
   {
    "duration": 6,
    "start_time": "2024-06-11T02:13:23.992Z"
   },
   {
    "duration": 1300,
    "start_time": "2024-06-11T02:13:38.710Z"
   },
   {
    "duration": 26,
    "start_time": "2024-06-11T02:13:40.014Z"
   },
   {
    "duration": 24,
    "start_time": "2024-06-11T02:13:40.043Z"
   },
   {
    "duration": 26,
    "start_time": "2024-06-11T02:13:40.070Z"
   },
   {
    "duration": 9,
    "start_time": "2024-06-11T02:13:40.100Z"
   },
   {
    "duration": 12,
    "start_time": "2024-06-11T02:13:40.112Z"
   },
   {
    "duration": 14,
    "start_time": "2024-06-11T02:13:40.127Z"
   },
   {
    "duration": 232,
    "start_time": "2024-06-11T02:13:40.192Z"
   },
   {
    "duration": 6,
    "start_time": "2024-06-11T02:13:40.427Z"
   },
   {
    "duration": 390,
    "start_time": "2024-06-11T02:13:40.438Z"
   },
   {
    "duration": 590,
    "start_time": "2024-06-11T02:13:40.831Z"
   },
   {
    "duration": 191,
    "start_time": "2024-06-11T02:13:41.424Z"
   },
   {
    "duration": 342,
    "start_time": "2024-06-11T02:13:41.618Z"
   },
   {
    "duration": 7,
    "start_time": "2024-06-11T02:13:41.963Z"
   },
   {
    "duration": 757,
    "start_time": "2024-06-11T02:14:03.533Z"
   },
   {
    "duration": 10,
    "start_time": "2024-06-11T02:18:20.507Z"
   },
   {
    "duration": 40,
    "start_time": "2024-06-11T02:18:27.728Z"
   },
   {
    "duration": 39,
    "start_time": "2024-06-11T02:19:13.235Z"
   },
   {
    "duration": 60,
    "start_time": "2024-06-11T02:20:02.144Z"
   },
   {
    "duration": 37,
    "start_time": "2024-06-11T02:23:29.107Z"
   },
   {
    "duration": 27,
    "start_time": "2024-06-11T02:24:27.403Z"
   },
   {
    "duration": 21,
    "start_time": "2024-06-11T02:24:48.670Z"
   },
   {
    "duration": 100,
    "start_time": "2024-06-11T02:26:57.305Z"
   },
   {
    "duration": 33,
    "start_time": "2024-06-11T02:28:00.129Z"
   },
   {
    "duration": 517,
    "start_time": "2024-06-11T02:37:53.161Z"
   },
   {
    "duration": 21,
    "start_time": "2024-06-11T02:39:39.603Z"
   },
   {
    "duration": 23,
    "start_time": "2024-06-11T02:40:21.308Z"
   },
   {
    "duration": 86,
    "start_time": "2024-06-11T02:42:57.520Z"
   },
   {
    "duration": 83,
    "start_time": "2024-06-11T02:43:17.809Z"
   },
   {
    "duration": 116,
    "start_time": "2024-06-11T02:43:34.659Z"
   },
   {
    "duration": 226,
    "start_time": "2024-06-11T02:43:53.866Z"
   },
   {
    "duration": 531,
    "start_time": "2024-06-11T02:44:37.465Z"
   },
   {
    "duration": 355,
    "start_time": "2024-06-11T02:44:57.838Z"
   },
   {
    "duration": 533,
    "start_time": "2024-06-11T02:45:13.331Z"
   },
   {
    "duration": 10,
    "start_time": "2024-06-11T02:45:50.256Z"
   },
   {
    "duration": 702,
    "start_time": "2024-06-11T02:46:28.158Z"
   },
   {
    "duration": 5,
    "start_time": "2024-06-11T02:47:20.854Z"
   },
   {
    "duration": 1260,
    "start_time": "2024-06-11T02:47:49.742Z"
   },
   {
    "duration": 26,
    "start_time": "2024-06-11T02:47:51.006Z"
   },
   {
    "duration": 23,
    "start_time": "2024-06-11T02:47:51.035Z"
   },
   {
    "duration": 12,
    "start_time": "2024-06-11T02:47:51.090Z"
   },
   {
    "duration": 9,
    "start_time": "2024-06-11T02:47:51.105Z"
   },
   {
    "duration": 12,
    "start_time": "2024-06-11T02:47:51.117Z"
   },
   {
    "duration": 13,
    "start_time": "2024-06-11T02:47:51.132Z"
   },
   {
    "duration": 53,
    "start_time": "2024-06-11T02:47:51.148Z"
   },
   {
    "duration": 250,
    "start_time": "2024-06-11T02:47:51.203Z"
   },
   {
    "duration": 6,
    "start_time": "2024-06-11T02:47:51.459Z"
   },
   {
    "duration": 390,
    "start_time": "2024-06-11T02:47:51.469Z"
   },
   {
    "duration": 594,
    "start_time": "2024-06-11T02:47:51.861Z"
   },
   {
    "duration": 218,
    "start_time": "2024-06-11T02:47:52.458Z"
   },
   {
    "duration": 354,
    "start_time": "2024-06-11T02:47:52.690Z"
   },
   {
    "duration": 562,
    "start_time": "2024-06-11T02:47:53.047Z"
   },
   {
    "duration": 456,
    "start_time": "2024-06-11T02:47:53.612Z"
   },
   {
    "duration": 9,
    "start_time": "2024-06-11T03:07:06.900Z"
   },
   {
    "duration": 48,
    "start_time": "2024-06-11T03:07:15.942Z"
   },
   {
    "duration": 520,
    "start_time": "2024-06-11T03:22:08.940Z"
   },
   {
    "duration": 25,
    "start_time": "2024-06-11T03:22:25.421Z"
   },
   {
    "duration": 32,
    "start_time": "2024-06-11T03:22:32.242Z"
   },
   {
    "duration": 4959,
    "start_time": "2024-06-12T01:46:09.357Z"
   },
   {
    "duration": 31,
    "start_time": "2024-06-12T01:46:14.320Z"
   },
   {
    "duration": 34,
    "start_time": "2024-06-12T01:46:14.354Z"
   },
   {
    "duration": 7,
    "start_time": "2024-06-12T01:46:14.393Z"
   },
   {
    "duration": 9,
    "start_time": "2024-06-12T01:46:14.404Z"
   },
   {
    "duration": 51,
    "start_time": "2024-06-12T01:46:14.417Z"
   },
   {
    "duration": 12,
    "start_time": "2024-06-12T01:46:14.471Z"
   },
   {
    "duration": 12,
    "start_time": "2024-06-12T01:46:14.486Z"
   },
   {
    "duration": 251,
    "start_time": "2024-06-12T01:46:14.502Z"
   },
   {
    "duration": 9,
    "start_time": "2024-06-12T01:46:14.759Z"
   },
   {
    "duration": 381,
    "start_time": "2024-06-12T01:46:14.770Z"
   },
   {
    "duration": 689,
    "start_time": "2024-06-12T01:46:15.155Z"
   },
   {
    "duration": 230,
    "start_time": "2024-06-12T01:46:15.850Z"
   },
   {
    "duration": 379,
    "start_time": "2024-06-12T01:46:16.084Z"
   },
   {
    "duration": 640,
    "start_time": "2024-06-12T01:46:16.467Z"
   },
   {
    "duration": 10,
    "start_time": "2024-06-12T01:46:17.113Z"
   },
   {
    "duration": 710,
    "start_time": "2024-06-12T01:46:17.126Z"
   },
   {
    "duration": 49,
    "start_time": "2024-06-12T01:46:53.869Z"
   },
   {
    "duration": 31,
    "start_time": "2024-06-12T02:24:25.946Z"
   },
   {
    "duration": 47,
    "start_time": "2024-06-12T02:24:43.597Z"
   },
   {
    "duration": 1404,
    "start_time": "2024-06-12T02:28:35.069Z"
   },
   {
    "duration": 25,
    "start_time": "2024-06-12T02:28:36.477Z"
   },
   {
    "duration": 26,
    "start_time": "2024-06-12T02:28:36.505Z"
   },
   {
    "duration": 35,
    "start_time": "2024-06-12T02:28:36.535Z"
   },
   {
    "duration": 10,
    "start_time": "2024-06-12T02:28:36.573Z"
   },
   {
    "duration": 13,
    "start_time": "2024-06-12T02:28:36.587Z"
   },
   {
    "duration": 14,
    "start_time": "2024-06-12T02:28:36.603Z"
   },
   {
    "duration": 58,
    "start_time": "2024-06-12T02:28:36.619Z"
   },
   {
    "duration": 247,
    "start_time": "2024-06-12T02:28:36.681Z"
   },
   {
    "duration": 6,
    "start_time": "2024-06-12T02:28:36.935Z"
   },
   {
    "duration": 392,
    "start_time": "2024-06-12T02:28:36.944Z"
   },
   {
    "duration": 628,
    "start_time": "2024-06-12T02:28:37.340Z"
   },
   {
    "duration": 204,
    "start_time": "2024-06-12T02:28:37.973Z"
   },
   {
    "duration": 362,
    "start_time": "2024-06-12T02:28:38.180Z"
   },
   {
    "duration": 545,
    "start_time": "2024-06-12T02:28:38.545Z"
   },
   {
    "duration": 50,
    "start_time": "2024-06-12T02:28:39.093Z"
   },
   {
    "duration": 395,
    "start_time": "2024-06-12T02:44:20.086Z"
   },
   {
    "duration": 24,
    "start_time": "2024-06-12T02:45:53.167Z"
   },
   {
    "duration": 7,
    "start_time": "2024-06-12T02:46:08.131Z"
   },
   {
    "duration": 23,
    "start_time": "2024-06-12T02:46:20.962Z"
   },
   {
    "duration": 0,
    "start_time": "2024-06-12T02:49:36.258Z"
   },
   {
    "duration": 7,
    "start_time": "2024-06-12T02:49:57.119Z"
   },
   {
    "duration": 1412,
    "start_time": "2024-06-12T02:50:58.800Z"
   },
   {
    "duration": 346,
    "start_time": "2024-06-12T02:51:25.240Z"
   },
   {
    "duration": 16668,
    "start_time": "2024-06-12T02:51:47.281Z"
   },
   {
    "duration": 16707,
    "start_time": "2024-06-12T02:52:14.409Z"
   },
   {
    "duration": 247,
    "start_time": "2024-06-12T02:52:49.024Z"
   },
   {
    "duration": 240,
    "start_time": "2024-06-12T02:52:58.185Z"
   },
   {
    "duration": 90,
    "start_time": "2024-06-12T02:53:48.861Z"
   },
   {
    "duration": 95,
    "start_time": "2024-06-12T02:53:56.419Z"
   },
   {
    "duration": 224,
    "start_time": "2024-06-12T02:54:04.100Z"
   },
   {
    "duration": 11,
    "start_time": "2024-06-12T03:01:01.996Z"
   },
   {
    "duration": 27,
    "start_time": "2024-06-12T03:01:17.994Z"
   },
   {
    "duration": 13,
    "start_time": "2024-06-12T03:01:33.140Z"
   },
   {
    "duration": 30,
    "start_time": "2024-06-12T03:02:44.398Z"
   },
   {
    "duration": 11,
    "start_time": "2024-06-12T03:02:53.749Z"
   },
   {
    "duration": 21,
    "start_time": "2024-06-12T03:03:01.832Z"
   },
   {
    "duration": 9,
    "start_time": "2024-06-12T03:03:19.524Z"
   },
   {
    "duration": 5061,
    "start_time": "2024-06-15T13:50:24.673Z"
   },
   {
    "duration": 33,
    "start_time": "2024-06-15T13:50:29.739Z"
   },
   {
    "duration": 39,
    "start_time": "2024-06-15T13:50:29.776Z"
   },
   {
    "duration": 8,
    "start_time": "2024-06-15T13:50:29.818Z"
   },
   {
    "duration": 9,
    "start_time": "2024-06-15T13:50:29.830Z"
   },
   {
    "duration": 13,
    "start_time": "2024-06-15T13:50:29.842Z"
   },
   {
    "duration": 53,
    "start_time": "2024-06-15T13:50:29.858Z"
   },
   {
    "duration": 12,
    "start_time": "2024-06-15T13:50:29.914Z"
   },
   {
    "duration": 253,
    "start_time": "2024-06-15T13:50:29.930Z"
   },
   {
    "duration": 6,
    "start_time": "2024-06-15T13:50:30.186Z"
   },
   {
    "duration": 366,
    "start_time": "2024-06-15T13:50:30.204Z"
   },
   {
    "duration": 545,
    "start_time": "2024-06-15T13:50:30.573Z"
   },
   {
    "duration": 196,
    "start_time": "2024-06-15T13:50:31.121Z"
   },
   {
    "duration": 336,
    "start_time": "2024-06-15T13:50:31.322Z"
   },
   {
    "duration": 607,
    "start_time": "2024-06-15T13:50:31.662Z"
   },
   {
    "duration": 59,
    "start_time": "2024-06-15T13:50:32.272Z"
   },
   {
    "duration": 8,
    "start_time": "2024-06-15T13:50:32.334Z"
   },
   {
    "duration": 253,
    "start_time": "2024-06-15T13:50:32.345Z"
   },
   {
    "duration": 9,
    "start_time": "2024-06-15T13:50:32.602Z"
   },
   {
    "duration": 7,
    "start_time": "2024-06-15T14:05:28.085Z"
   },
   {
    "duration": 10,
    "start_time": "2024-06-15T14:06:14.749Z"
   },
   {
    "duration": 13,
    "start_time": "2024-06-15T14:06:16.462Z"
   },
   {
    "duration": 1603,
    "start_time": "2024-06-15T14:06:54.839Z"
   },
   {
    "duration": 17,
    "start_time": "2024-06-15T14:07:05.890Z"
   },
   {
    "duration": 9,
    "start_time": "2024-06-15T14:07:49.565Z"
   },
   {
    "duration": 23,
    "start_time": "2024-06-15T14:08:56.295Z"
   },
   {
    "duration": 17,
    "start_time": "2024-06-15T14:10:47.880Z"
   },
   {
    "duration": 17,
    "start_time": "2024-06-15T14:11:49.702Z"
   },
   {
    "duration": 6,
    "start_time": "2024-06-15T14:15:22.868Z"
   },
   {
    "duration": 25,
    "start_time": "2024-06-15T14:16:58.306Z"
   },
   {
    "duration": 197,
    "start_time": "2024-06-15T14:17:48.198Z"
   },
   {
    "duration": 214,
    "start_time": "2024-06-15T14:19:32.767Z"
   },
   {
    "duration": 205,
    "start_time": "2024-06-15T14:19:59.468Z"
   },
   {
    "duration": 250,
    "start_time": "2024-06-15T14:20:28.054Z"
   },
   {
    "duration": 225,
    "start_time": "2024-06-15T14:21:51.516Z"
   },
   {
    "duration": 277,
    "start_time": "2024-06-15T14:22:10.772Z"
   },
   {
    "duration": 277,
    "start_time": "2024-06-15T14:22:20.689Z"
   },
   {
    "duration": 17,
    "start_time": "2024-06-15T14:23:20.017Z"
   },
   {
    "duration": 27,
    "start_time": "2024-06-15T14:24:27.967Z"
   },
   {
    "duration": 7,
    "start_time": "2024-06-15T14:25:10.206Z"
   },
   {
    "duration": 645,
    "start_time": "2024-06-15T14:26:18.460Z"
   },
   {
    "duration": 195,
    "start_time": "2024-06-15T14:26:26.543Z"
   },
   {
    "duration": 246,
    "start_time": "2024-06-15T14:26:49.730Z"
   },
   {
    "duration": 12,
    "start_time": "2024-06-15T14:27:07.390Z"
   },
   {
    "duration": 12,
    "start_time": "2024-06-15T15:09:40.778Z"
   },
   {
    "duration": 4,
    "start_time": "2024-06-15T15:09:57.756Z"
   },
   {
    "duration": 314,
    "start_time": "2024-06-15T15:37:25.543Z"
   },
   {
    "duration": 5536,
    "start_time": "2024-06-15T15:37:33.429Z"
   },
   {
    "duration": 38,
    "start_time": "2024-06-15T15:37:38.969Z"
   },
   {
    "duration": 27,
    "start_time": "2024-06-15T15:37:39.010Z"
   },
   {
    "duration": 10,
    "start_time": "2024-06-15T15:37:39.042Z"
   },
   {
    "duration": 9,
    "start_time": "2024-06-15T15:37:39.060Z"
   },
   {
    "duration": 13,
    "start_time": "2024-06-15T15:37:39.072Z"
   },
   {
    "duration": 45,
    "start_time": "2024-06-15T15:37:39.087Z"
   },
   {
    "duration": 15,
    "start_time": "2024-06-15T15:37:39.135Z"
   },
   {
    "duration": 1924,
    "start_time": "2024-06-15T15:37:39.152Z"
   },
   {
    "duration": 0,
    "start_time": "2024-06-15T15:37:41.080Z"
   },
   {
    "duration": 0,
    "start_time": "2024-06-15T15:37:41.082Z"
   },
   {
    "duration": 0,
    "start_time": "2024-06-15T15:37:41.084Z"
   },
   {
    "duration": 0,
    "start_time": "2024-06-15T15:37:41.086Z"
   },
   {
    "duration": 0,
    "start_time": "2024-06-15T15:37:41.088Z"
   },
   {
    "duration": 0,
    "start_time": "2024-06-15T15:37:41.090Z"
   },
   {
    "duration": 0,
    "start_time": "2024-06-15T15:37:41.092Z"
   },
   {
    "duration": 0,
    "start_time": "2024-06-15T15:37:41.094Z"
   },
   {
    "duration": 0,
    "start_time": "2024-06-15T15:37:41.095Z"
   },
   {
    "duration": 0,
    "start_time": "2024-06-15T15:37:41.096Z"
   },
   {
    "duration": 0,
    "start_time": "2024-06-15T15:37:41.097Z"
   },
   {
    "duration": 0,
    "start_time": "2024-06-15T15:37:41.125Z"
   },
   {
    "duration": 0,
    "start_time": "2024-06-15T15:37:41.127Z"
   },
   {
    "duration": 0,
    "start_time": "2024-06-15T15:37:41.128Z"
   },
   {
    "duration": 0,
    "start_time": "2024-06-15T15:37:41.130Z"
   },
   {
    "duration": 221,
    "start_time": "2024-06-15T15:37:59.832Z"
   },
   {
    "duration": 6,
    "start_time": "2024-06-15T15:38:44.796Z"
   },
   {
    "duration": 226,
    "start_time": "2024-06-15T15:38:59.219Z"
   },
   {
    "duration": 209,
    "start_time": "2024-06-15T15:39:30.000Z"
   },
   {
    "duration": 238,
    "start_time": "2024-06-15T15:39:59.894Z"
   },
   {
    "duration": 259,
    "start_time": "2024-06-15T15:41:21.254Z"
   },
   {
    "duration": 5,
    "start_time": "2024-06-15T15:47:04.514Z"
   },
   {
    "duration": 394,
    "start_time": "2024-06-15T15:47:05.621Z"
   },
   {
    "duration": 410,
    "start_time": "2024-06-15T15:49:09.138Z"
   },
   {
    "duration": 5018,
    "start_time": "2024-06-16T00:29:04.297Z"
   },
   {
    "duration": 38,
    "start_time": "2024-06-16T00:29:09.318Z"
   },
   {
    "duration": 25,
    "start_time": "2024-06-16T00:29:09.359Z"
   },
   {
    "duration": 10,
    "start_time": "2024-06-16T00:29:09.401Z"
   },
   {
    "duration": 9,
    "start_time": "2024-06-16T00:29:09.414Z"
   },
   {
    "duration": 11,
    "start_time": "2024-06-16T00:29:09.426Z"
   },
   {
    "duration": 13,
    "start_time": "2024-06-16T00:29:09.440Z"
   },
   {
    "duration": 54,
    "start_time": "2024-06-16T00:29:09.456Z"
   },
   {
    "duration": 281,
    "start_time": "2024-06-16T00:29:09.513Z"
   },
   {
    "duration": 9,
    "start_time": "2024-06-16T00:29:09.805Z"
   },
   {
    "duration": 411,
    "start_time": "2024-06-16T00:29:09.820Z"
   },
   {
    "duration": 572,
    "start_time": "2024-06-16T00:29:10.233Z"
   },
   {
    "duration": 249,
    "start_time": "2024-06-16T00:29:10.809Z"
   },
   {
    "duration": 414,
    "start_time": "2024-06-16T00:29:11.061Z"
   },
   {
    "duration": 591,
    "start_time": "2024-06-16T00:29:11.478Z"
   },
   {
    "duration": 59,
    "start_time": "2024-06-16T00:29:12.074Z"
   },
   {
    "duration": 8,
    "start_time": "2024-06-16T00:29:12.136Z"
   },
   {
    "duration": 9,
    "start_time": "2024-06-16T00:29:12.147Z"
   },
   {
    "duration": 341,
    "start_time": "2024-06-16T00:29:12.160Z"
   },
   {
    "duration": 13,
    "start_time": "2024-06-16T00:29:12.505Z"
   },
   {
    "duration": 9,
    "start_time": "2024-06-16T00:29:12.521Z"
   },
   {
    "duration": 16,
    "start_time": "2024-06-16T00:29:12.533Z"
   },
   {
    "duration": 50,
    "start_time": "2024-06-16T00:29:12.552Z"
   },
   {
    "duration": 331,
    "start_time": "2024-06-16T00:29:12.606Z"
   },
   {
    "duration": 556,
    "start_time": "2024-06-16T00:29:37.517Z"
   },
   {
    "duration": 591,
    "start_time": "2024-06-16T00:31:12.228Z"
   },
   {
    "duration": 216,
    "start_time": "2024-06-16T00:32:27.868Z"
   },
   {
    "duration": 220,
    "start_time": "2024-06-16T00:34:22.992Z"
   },
   {
    "duration": 344,
    "start_time": "2024-06-16T00:36:30.289Z"
   },
   {
    "duration": 382,
    "start_time": "2024-06-16T00:38:32.722Z"
   },
   {
    "duration": 588,
    "start_time": "2024-06-16T00:40:07.824Z"
   },
   {
    "duration": 604,
    "start_time": "2024-06-16T00:40:46.238Z"
   },
   {
    "duration": 332,
    "start_time": "2024-06-16T00:42:29.432Z"
   },
   {
    "duration": 399,
    "start_time": "2024-06-16T00:43:25.512Z"
   },
   {
    "duration": 9,
    "start_time": "2024-06-16T00:49:49.709Z"
   },
   {
    "duration": 1668,
    "start_time": "2024-06-16T00:49:58.204Z"
   },
   {
    "duration": 344,
    "start_time": "2024-06-16T00:50:13.050Z"
   },
   {
    "duration": 1377,
    "start_time": "2024-06-16T00:59:32.082Z"
   },
   {
    "duration": 26,
    "start_time": "2024-06-16T00:59:33.463Z"
   },
   {
    "duration": 24,
    "start_time": "2024-06-16T00:59:33.502Z"
   },
   {
    "duration": 11,
    "start_time": "2024-06-16T00:59:33.531Z"
   },
   {
    "duration": 12,
    "start_time": "2024-06-16T00:59:33.545Z"
   },
   {
    "duration": 48,
    "start_time": "2024-06-16T00:59:33.561Z"
   },
   {
    "duration": 14,
    "start_time": "2024-06-16T00:59:33.612Z"
   },
   {
    "duration": 16,
    "start_time": "2024-06-16T00:59:33.629Z"
   },
   {
    "duration": 329,
    "start_time": "2024-06-16T00:59:33.648Z"
   },
   {
    "duration": 6,
    "start_time": "2024-06-16T00:59:33.982Z"
   },
   {
    "duration": 439,
    "start_time": "2024-06-16T00:59:34.004Z"
   },
   {
    "duration": 313,
    "start_time": "2024-06-16T00:59:34.447Z"
   },
   {
    "duration": 386,
    "start_time": "2024-06-16T00:59:34.764Z"
   },
   {
    "duration": 662,
    "start_time": "2024-06-16T00:59:35.153Z"
   },
   {
    "duration": 51,
    "start_time": "2024-06-16T00:59:35.819Z"
   },
   {
    "duration": 32,
    "start_time": "2024-06-16T00:59:35.874Z"
   },
   {
    "duration": 10,
    "start_time": "2024-06-16T00:59:35.910Z"
   },
   {
    "duration": 366,
    "start_time": "2024-06-16T00:59:35.924Z"
   },
   {
    "duration": 21,
    "start_time": "2024-06-16T00:59:36.301Z"
   },
   {
    "duration": 9,
    "start_time": "2024-06-16T00:59:36.325Z"
   },
   {
    "duration": 20,
    "start_time": "2024-06-16T00:59:36.338Z"
   },
   {
    "duration": 44,
    "start_time": "2024-06-16T00:59:36.361Z"
   },
   {
    "duration": 371,
    "start_time": "2024-06-16T00:59:36.411Z"
   },
   {
    "duration": 4925,
    "start_time": "2024-06-18T22:31:35.585Z"
   },
   {
    "duration": 39,
    "start_time": "2024-06-18T22:31:40.514Z"
   },
   {
    "duration": 24,
    "start_time": "2024-06-18T22:31:40.556Z"
   },
   {
    "duration": 7,
    "start_time": "2024-06-18T22:31:40.593Z"
   },
   {
    "duration": 9,
    "start_time": "2024-06-18T22:31:40.604Z"
   },
   {
    "duration": 11,
    "start_time": "2024-06-18T22:31:40.616Z"
   },
   {
    "duration": 13,
    "start_time": "2024-06-18T22:31:40.630Z"
   },
   {
    "duration": 13,
    "start_time": "2024-06-18T22:31:40.691Z"
   },
   {
    "duration": 287,
    "start_time": "2024-06-18T22:31:40.708Z"
   },
   {
    "duration": 5,
    "start_time": "2024-06-18T22:31:41.001Z"
   },
   {
    "duration": 400,
    "start_time": "2024-06-18T22:31:41.009Z"
   },
   {
    "duration": 233,
    "start_time": "2024-06-18T22:31:41.412Z"
   },
   {
    "duration": 369,
    "start_time": "2024-06-18T22:31:41.648Z"
   },
   {
    "duration": 616,
    "start_time": "2024-06-18T22:31:42.020Z"
   },
   {
    "duration": 8,
    "start_time": "2024-06-18T22:31:42.638Z"
   },
   {
    "duration": 1243,
    "start_time": "2024-06-18T22:31:42.649Z"
   },
   {
    "duration": 0,
    "start_time": "2024-06-18T22:31:43.894Z"
   },
   {
    "duration": 1,
    "start_time": "2024-06-18T22:31:43.896Z"
   },
   {
    "duration": 0,
    "start_time": "2024-06-18T22:31:43.898Z"
   },
   {
    "duration": 0,
    "start_time": "2024-06-18T22:31:43.900Z"
   },
   {
    "duration": 0,
    "start_time": "2024-06-18T22:31:43.902Z"
   },
   {
    "duration": 0,
    "start_time": "2024-06-18T22:31:43.905Z"
   },
   {
    "duration": 29,
    "start_time": "2024-06-18T22:32:05.358Z"
   },
   {
    "duration": 30,
    "start_time": "2024-06-18T22:32:41.911Z"
   },
   {
    "duration": 8,
    "start_time": "2024-06-18T22:32:50.687Z"
   },
   {
    "duration": 11,
    "start_time": "2024-06-18T22:32:51.827Z"
   },
   {
    "duration": 292,
    "start_time": "2024-06-18T22:33:15.933Z"
   },
   {
    "duration": 14,
    "start_time": "2024-06-18T22:33:18.737Z"
   },
   {
    "duration": 8,
    "start_time": "2024-06-18T22:33:19.268Z"
   },
   {
    "duration": 15,
    "start_time": "2024-06-18T22:33:23.032Z"
   },
   {
    "duration": 6,
    "start_time": "2024-06-18T22:33:24.177Z"
   },
   {
    "duration": 311,
    "start_time": "2024-06-18T22:33:25.092Z"
   },
   {
    "duration": 10,
    "start_time": "2024-06-18T22:39:40.755Z"
   },
   {
    "duration": 5,
    "start_time": "2024-06-18T22:40:06.225Z"
   },
   {
    "duration": 7,
    "start_time": "2024-06-18T22:41:05.773Z"
   },
   {
    "duration": 5017,
    "start_time": "2024-06-19T03:05:40.714Z"
   },
   {
    "duration": 41,
    "start_time": "2024-06-19T03:05:45.736Z"
   },
   {
    "duration": 23,
    "start_time": "2024-06-19T03:05:45.780Z"
   },
   {
    "duration": 7,
    "start_time": "2024-06-19T03:05:45.812Z"
   },
   {
    "duration": 9,
    "start_time": "2024-06-19T03:05:45.825Z"
   },
   {
    "duration": 12,
    "start_time": "2024-06-19T03:05:45.837Z"
   },
   {
    "duration": 12,
    "start_time": "2024-06-19T03:05:45.852Z"
   },
   {
    "duration": 13,
    "start_time": "2024-06-19T03:05:45.913Z"
   },
   {
    "duration": 294,
    "start_time": "2024-06-19T03:05:45.931Z"
   },
   {
    "duration": 6,
    "start_time": "2024-06-19T03:05:46.228Z"
   },
   {
    "duration": 420,
    "start_time": "2024-06-19T03:05:46.238Z"
   },
   {
    "duration": 244,
    "start_time": "2024-06-19T03:05:46.661Z"
   },
   {
    "duration": 371,
    "start_time": "2024-06-19T03:05:46.911Z"
   },
   {
    "duration": 627,
    "start_time": "2024-06-19T03:05:47.287Z"
   },
   {
    "duration": 32,
    "start_time": "2024-06-19T03:05:47.919Z"
   },
   {
    "duration": 10,
    "start_time": "2024-06-19T03:05:47.954Z"
   },
   {
    "duration": 11,
    "start_time": "2024-06-19T03:05:47.967Z"
   },
   {
    "duration": 316,
    "start_time": "2024-06-19T03:05:48.014Z"
   },
   {
    "duration": 15,
    "start_time": "2024-06-19T03:05:48.333Z"
   },
   {
    "duration": 10,
    "start_time": "2024-06-19T03:05:48.351Z"
   },
   {
    "duration": 53,
    "start_time": "2024-06-19T03:05:48.365Z"
   },
   {
    "duration": 7,
    "start_time": "2024-06-19T03:05:48.421Z"
   },
   {
    "duration": 403,
    "start_time": "2024-06-19T03:05:48.432Z"
   },
   {
    "duration": 21,
    "start_time": "2024-06-19T03:10:15.705Z"
   },
   {
    "duration": 24,
    "start_time": "2024-06-19T03:11:49.914Z"
   },
   {
    "duration": 401,
    "start_time": "2024-06-19T03:15:38.973Z"
   },
   {
    "duration": 173,
    "start_time": "2024-06-19T03:15:58.753Z"
   },
   {
    "duration": 9,
    "start_time": "2024-06-19T03:16:53.441Z"
   },
   {
    "duration": 8,
    "start_time": "2024-06-19T03:17:03.093Z"
   },
   {
    "duration": 10,
    "start_time": "2024-06-19T03:17:15.692Z"
   },
   {
    "duration": 18,
    "start_time": "2024-06-19T03:22:51.245Z"
   },
   {
    "duration": 33,
    "start_time": "2024-06-19T03:23:09.993Z"
   },
   {
    "duration": 9,
    "start_time": "2024-06-19T03:23:17.054Z"
   },
   {
    "duration": 31,
    "start_time": "2024-06-19T03:28:17.589Z"
   },
   {
    "duration": 40,
    "start_time": "2024-06-19T03:28:23.308Z"
   },
   {
    "duration": 11,
    "start_time": "2024-06-19T03:28:28.714Z"
   },
   {
    "duration": 9,
    "start_time": "2024-06-19T03:29:09.237Z"
   },
   {
    "duration": 8,
    "start_time": "2024-06-19T03:29:55.375Z"
   },
   {
    "duration": 11,
    "start_time": "2024-06-19T03:30:53.551Z"
   },
   {
    "duration": 13,
    "start_time": "2024-06-19T03:31:02.283Z"
   },
   {
    "duration": 14,
    "start_time": "2024-06-19T03:31:21.095Z"
   },
   {
    "duration": 1074,
    "start_time": "2024-06-19T03:31:50.793Z"
   },
   {
    "duration": 22,
    "start_time": "2024-06-19T03:34:48.655Z"
   },
   {
    "duration": 634,
    "start_time": "2024-06-19T03:36:31.958Z"
   },
   {
    "duration": 61,
    "start_time": "2024-06-19T03:36:46.218Z"
   },
   {
    "duration": 22,
    "start_time": "2024-06-19T03:36:56.611Z"
   },
   {
    "duration": 27,
    "start_time": "2024-06-19T03:37:06.509Z"
   },
   {
    "duration": 23,
    "start_time": "2024-06-19T03:37:33.969Z"
   },
   {
    "duration": 27,
    "start_time": "2024-06-19T03:37:48.186Z"
   },
   {
    "duration": 39,
    "start_time": "2024-06-19T03:39:00.477Z"
   },
   {
    "duration": 44,
    "start_time": "2024-06-19T03:39:13.747Z"
   },
   {
    "duration": 160,
    "start_time": "2024-06-19T03:39:18.762Z"
   },
   {
    "duration": 25,
    "start_time": "2024-06-19T03:39:44.840Z"
   },
   {
    "duration": 90,
    "start_time": "2024-06-19T03:40:09.381Z"
   },
   {
    "duration": 154,
    "start_time": "2024-06-19T03:40:24.820Z"
   },
   {
    "duration": 22,
    "start_time": "2024-06-19T03:40:34.980Z"
   },
   {
    "duration": 21,
    "start_time": "2024-06-19T03:40:46.613Z"
   },
   {
    "duration": 43,
    "start_time": "2024-06-19T03:41:09.793Z"
   },
   {
    "duration": 19,
    "start_time": "2024-06-19T03:41:26.195Z"
   },
   {
    "duration": 36,
    "start_time": "2024-06-19T03:41:38.964Z"
   },
   {
    "duration": 11,
    "start_time": "2024-06-19T03:43:10.142Z"
   },
   {
    "duration": 18,
    "start_time": "2024-06-19T03:43:14.490Z"
   },
   {
    "duration": 13,
    "start_time": "2024-06-19T03:43:14.964Z"
   },
   {
    "duration": 275,
    "start_time": "2024-06-19T03:43:17.742Z"
   },
   {
    "duration": 7,
    "start_time": "2024-06-19T03:43:21.498Z"
   },
   {
    "duration": 421,
    "start_time": "2024-06-19T03:43:22.618Z"
   },
   {
    "duration": 20,
    "start_time": "2024-06-19T03:43:25.371Z"
   },
   {
    "duration": 28,
    "start_time": "2024-06-19T03:43:26.332Z"
   },
   {
    "duration": 301,
    "start_time": "2024-06-19T03:43:27.139Z"
   },
   {
    "duration": 30,
    "start_time": "2024-06-19T03:43:44.154Z"
   },
   {
    "duration": 11,
    "start_time": "2024-06-19T03:44:11.334Z"
   },
   {
    "duration": 14,
    "start_time": "2024-06-19T03:44:11.947Z"
   },
   {
    "duration": 17,
    "start_time": "2024-06-19T03:44:12.165Z"
   },
   {
    "duration": 1292,
    "start_time": "2024-06-19T03:44:18.543Z"
   },
   {
    "duration": 25,
    "start_time": "2024-06-19T03:44:19.838Z"
   },
   {
    "duration": 23,
    "start_time": "2024-06-19T03:44:19.866Z"
   },
   {
    "duration": 7,
    "start_time": "2024-06-19T03:44:19.911Z"
   },
   {
    "duration": 9,
    "start_time": "2024-06-19T03:44:19.921Z"
   },
   {
    "duration": 10,
    "start_time": "2024-06-19T03:44:19.934Z"
   },
   {
    "duration": 14,
    "start_time": "2024-06-19T03:44:19.947Z"
   },
   {
    "duration": 58,
    "start_time": "2024-06-19T03:44:19.965Z"
   },
   {
    "duration": 296,
    "start_time": "2024-06-19T03:44:20.027Z"
   },
   {
    "duration": 7,
    "start_time": "2024-06-19T03:44:20.328Z"
   },
   {
    "duration": 405,
    "start_time": "2024-06-19T03:44:20.338Z"
   },
   {
    "duration": 20,
    "start_time": "2024-06-19T03:44:20.746Z"
   },
   {
    "duration": 55,
    "start_time": "2024-06-19T03:44:20.770Z"
   },
   {
    "duration": 319,
    "start_time": "2024-06-19T03:44:20.829Z"
   },
   {
    "duration": 379,
    "start_time": "2024-06-19T03:44:21.152Z"
   },
   {
    "duration": 589,
    "start_time": "2024-06-19T03:44:21.533Z"
   },
   {
    "duration": 33,
    "start_time": "2024-06-19T03:44:22.125Z"
   },
   {
    "duration": 8,
    "start_time": "2024-06-19T03:44:22.161Z"
   },
   {
    "duration": 43,
    "start_time": "2024-06-19T03:44:22.172Z"
   },
   {
    "duration": 313,
    "start_time": "2024-06-19T03:44:22.218Z"
   },
   {
    "duration": 14,
    "start_time": "2024-06-19T03:44:22.535Z"
   },
   {
    "duration": 11,
    "start_time": "2024-06-19T03:44:22.553Z"
   },
   {
    "duration": 48,
    "start_time": "2024-06-19T03:44:22.567Z"
   },
   {
    "duration": 7,
    "start_time": "2024-06-19T03:44:22.618Z"
   },
   {
    "duration": 326,
    "start_time": "2024-06-19T03:44:22.628Z"
   },
   {
    "duration": 1334,
    "start_time": "2024-06-19T03:44:40.968Z"
   },
   {
    "duration": 24,
    "start_time": "2024-06-19T03:45:14.932Z"
   },
   {
    "duration": 579,
    "start_time": "2024-06-19T03:46:34.402Z"
   },
   {
    "duration": 19,
    "start_time": "2024-06-19T03:46:48.083Z"
   },
   {
    "duration": 29,
    "start_time": "2024-06-19T03:46:56.570Z"
   },
   {
    "duration": 28,
    "start_time": "2024-06-19T03:47:25.479Z"
   },
   {
    "duration": 6,
    "start_time": "2024-06-19T03:48:05.914Z"
   },
   {
    "duration": 27,
    "start_time": "2024-06-19T03:48:12.340Z"
   },
   {
    "duration": 39,
    "start_time": "2024-06-19T03:48:27.105Z"
   },
   {
    "duration": 27,
    "start_time": "2024-06-19T03:48:35.460Z"
   },
   {
    "duration": 21,
    "start_time": "2024-06-19T03:49:13.220Z"
   },
   {
    "duration": 19,
    "start_time": "2024-06-19T03:49:24.180Z"
   },
   {
    "duration": 27,
    "start_time": "2024-06-19T03:49:37.012Z"
   },
   {
    "duration": 27,
    "start_time": "2024-06-19T03:49:50.437Z"
   },
   {
    "duration": 409,
    "start_time": "2024-06-19T03:51:02.911Z"
   },
   {
    "duration": 93,
    "start_time": "2024-06-19T03:51:45.242Z"
   },
   {
    "duration": 94,
    "start_time": "2024-06-19T03:52:05.725Z"
   },
   {
    "duration": 27,
    "start_time": "2024-06-19T03:52:32.448Z"
   },
   {
    "duration": 241,
    "start_time": "2024-06-19T03:52:47.486Z"
   },
   {
    "duration": 86,
    "start_time": "2024-06-19T03:53:11.789Z"
   },
   {
    "duration": 86,
    "start_time": "2024-06-19T03:53:23.326Z"
   },
   {
    "duration": 39,
    "start_time": "2024-06-19T03:53:37.575Z"
   },
   {
    "duration": 39,
    "start_time": "2024-06-19T03:53:49.414Z"
   },
   {
    "duration": 28,
    "start_time": "2024-06-19T03:54:04.796Z"
   },
   {
    "duration": 330,
    "start_time": "2024-06-19T03:56:00.622Z"
   },
   {
    "duration": 236,
    "start_time": "2024-06-19T03:56:50.405Z"
   },
   {
    "duration": 1395,
    "start_time": "2024-06-19T03:58:24.949Z"
   },
   {
    "duration": 226,
    "start_time": "2024-06-19T03:58:57.151Z"
   },
   {
    "duration": 248,
    "start_time": "2024-06-19T03:59:26.231Z"
   },
   {
    "duration": 1282,
    "start_time": "2024-06-19T04:02:56.145Z"
   },
   {
    "duration": 25,
    "start_time": "2024-06-19T04:02:57.431Z"
   },
   {
    "duration": 23,
    "start_time": "2024-06-19T04:02:57.459Z"
   },
   {
    "duration": 30,
    "start_time": "2024-06-19T04:02:57.485Z"
   },
   {
    "duration": 9,
    "start_time": "2024-06-19T04:02:57.519Z"
   },
   {
    "duration": 11,
    "start_time": "2024-06-19T04:02:57.532Z"
   },
   {
    "duration": 12,
    "start_time": "2024-06-19T04:02:57.546Z"
   },
   {
    "duration": 58,
    "start_time": "2024-06-19T04:02:57.561Z"
   },
   {
    "duration": 280,
    "start_time": "2024-06-19T04:02:57.622Z"
   },
   {
    "duration": 11,
    "start_time": "2024-06-19T04:02:57.905Z"
   },
   {
    "duration": 400,
    "start_time": "2024-06-19T04:02:57.919Z"
   },
   {
    "duration": 21,
    "start_time": "2024-06-19T04:02:58.322Z"
   },
   {
    "duration": 328,
    "start_time": "2024-06-19T04:02:58.346Z"
   },
   {
    "duration": 373,
    "start_time": "2024-06-19T04:02:58.680Z"
   },
   {
    "duration": 592,
    "start_time": "2024-06-19T04:02:59.056Z"
   },
   {
    "duration": 30,
    "start_time": "2024-06-19T04:02:59.651Z"
   },
   {
    "duration": 30,
    "start_time": "2024-06-19T04:02:59.685Z"
   },
   {
    "duration": 11,
    "start_time": "2024-06-19T04:02:59.720Z"
   },
   {
    "duration": 313,
    "start_time": "2024-06-19T04:02:59.734Z"
   },
   {
    "duration": 14,
    "start_time": "2024-06-19T04:03:00.051Z"
   },
   {
    "duration": 9,
    "start_time": "2024-06-19T04:03:00.069Z"
   },
   {
    "duration": 45,
    "start_time": "2024-06-19T04:03:00.082Z"
   },
   {
    "duration": 6,
    "start_time": "2024-06-19T04:03:00.131Z"
   },
   {
    "duration": 337,
    "start_time": "2024-06-19T04:03:00.140Z"
   },
   {
    "duration": 315,
    "start_time": "2024-06-19T17:11:16.066Z"
   },
   {
    "duration": 22,
    "start_time": "2024-06-19T17:11:16.841Z"
   },
   {
    "duration": 5043,
    "start_time": "2024-06-19T17:11:26.718Z"
   },
   {
    "duration": 43,
    "start_time": "2024-06-19T17:11:31.765Z"
   },
   {
    "duration": 25,
    "start_time": "2024-06-19T17:11:31.811Z"
   },
   {
    "duration": 7,
    "start_time": "2024-06-19T17:11:31.841Z"
   },
   {
    "duration": 10,
    "start_time": "2024-06-19T17:11:31.851Z"
   },
   {
    "duration": 14,
    "start_time": "2024-06-19T17:11:31.864Z"
   },
   {
    "duration": 60,
    "start_time": "2024-06-19T17:11:31.881Z"
   },
   {
    "duration": 17,
    "start_time": "2024-06-19T17:11:31.944Z"
   },
   {
    "duration": 293,
    "start_time": "2024-06-19T17:11:31.965Z"
   },
   {
    "duration": 6,
    "start_time": "2024-06-19T17:11:32.265Z"
   },
   {
    "duration": 426,
    "start_time": "2024-06-19T17:11:32.274Z"
   },
   {
    "duration": 32,
    "start_time": "2024-06-19T17:11:32.704Z"
   },
   {
    "duration": 264,
    "start_time": "2024-06-19T17:11:32.739Z"
   },
   {
    "duration": 403,
    "start_time": "2024-06-19T17:11:33.969Z"
   },
   {
    "duration": 606,
    "start_time": "2024-06-19T17:11:37.170Z"
   },
   {
    "duration": 32,
    "start_time": "2024-06-19T17:11:37.930Z"
   },
   {
    "duration": 8,
    "start_time": "2024-06-19T17:11:38.759Z"
   },
   {
    "duration": 11,
    "start_time": "2024-06-19T17:11:38.895Z"
   },
   {
    "duration": 290,
    "start_time": "2024-06-19T17:11:39.060Z"
   },
   {
    "duration": 15,
    "start_time": "2024-06-19T17:11:42.057Z"
   },
   {
    "duration": 10,
    "start_time": "2024-06-19T17:11:43.062Z"
   },
   {
    "duration": 19,
    "start_time": "2024-06-19T17:11:45.256Z"
   },
   {
    "duration": 7,
    "start_time": "2024-06-19T17:11:45.414Z"
   },
   {
    "duration": 300,
    "start_time": "2024-06-19T17:11:45.566Z"
   },
   {
    "duration": 4,
    "start_time": "2024-06-19T17:27:08.354Z"
   },
   {
    "duration": 23,
    "start_time": "2024-06-19T17:27:08.740Z"
   },
   {
    "duration": 19,
    "start_time": "2024-06-19T17:27:09.694Z"
   },
   {
    "duration": 8,
    "start_time": "2024-06-19T17:27:09.911Z"
   },
   {
    "duration": 9,
    "start_time": "2024-06-19T17:27:10.612Z"
   },
   {
    "duration": 14,
    "start_time": "2024-06-19T17:27:10.693Z"
   },
   {
    "duration": 14,
    "start_time": "2024-06-19T17:27:10.783Z"
   },
   {
    "duration": 13,
    "start_time": "2024-06-19T17:27:10.875Z"
   },
   {
    "duration": 265,
    "start_time": "2024-06-19T17:27:11.194Z"
   },
   {
    "duration": 8,
    "start_time": "2024-06-19T17:27:11.529Z"
   },
   {
    "duration": 499,
    "start_time": "2024-06-19T17:27:11.623Z"
   },
   {
    "duration": 22,
    "start_time": "2024-06-19T17:27:12.134Z"
   },
   {
    "duration": 271,
    "start_time": "2024-06-19T17:27:12.159Z"
   },
   {
    "duration": 398,
    "start_time": "2024-06-19T17:27:12.436Z"
   },
   {
    "duration": 618,
    "start_time": "2024-06-19T17:27:13.657Z"
   },
   {
    "duration": 30,
    "start_time": "2024-06-19T17:27:18.829Z"
   },
   {
    "duration": 9,
    "start_time": "2024-06-19T17:27:21.670Z"
   },
   {
    "duration": 10,
    "start_time": "2024-06-19T17:27:22.268Z"
   },
   {
    "duration": 315,
    "start_time": "2024-06-19T17:27:23.136Z"
   },
   {
    "duration": 12,
    "start_time": "2024-06-19T17:27:36.822Z"
   },
   {
    "duration": 8,
    "start_time": "2024-06-19T17:29:32.680Z"
   },
   {
    "duration": 12,
    "start_time": "2024-06-19T17:29:54.547Z"
   },
   {
    "duration": 11,
    "start_time": "2024-06-19T17:30:03.886Z"
   },
   {
    "duration": 10,
    "start_time": "2024-06-19T17:31:29.214Z"
   },
   {
    "duration": 9,
    "start_time": "2024-06-19T17:31:56.749Z"
   }
  ],
  "kernelspec": {
   "display_name": "Python 3 (ipykernel)",
   "language": "python",
   "name": "python3"
  },
  "language_info": {
   "codemirror_mode": {
    "name": "ipython",
    "version": 3
   },
   "file_extension": ".py",
   "mimetype": "text/x-python",
   "name": "python",
   "nbconvert_exporter": "python",
   "pygments_lexer": "ipython3",
   "version": "3.9.19"
  },
  "toc": {
   "base_numbering": 1,
   "nav_menu": {},
   "number_sections": true,
   "sideBar": true,
   "skip_h1_title": false,
   "title_cell": "Table of Contents",
   "title_sidebar": "Contents",
   "toc_cell": true,
   "toc_position": {
    "height": "calc(100% - 180px)",
    "left": "10px",
    "top": "150px",
    "width": "217.188px"
   },
   "toc_section_display": true,
   "toc_window_display": true
  }
 },
 "nbformat": 4,
 "nbformat_minor": 2
}
